{
 "cells": [
  {
   "cell_type": "code",
   "execution_count": 310,
   "metadata": {},
   "outputs": [],
   "source": [
    "import numpy as np\n",
    "import pandas as pd\n",
    "import matplotlib.pyplot as plt\n",
    "import seaborn as sns"
   ]
  },
  {
   "cell_type": "code",
   "execution_count": 311,
   "metadata": {},
   "outputs": [],
   "source": [
    "df=pd.read_csv(\"/Users/kapilyadav/Desktop/majorproject/Cancer-Prediction-in-Early-stages-master copy/Cancer.csv\")"
   ]
  },
  {
   "cell_type": "code",
   "execution_count": 312,
   "metadata": {},
   "outputs": [
    {
     "data": {
      "text/html": [
       "<div>\n",
       "<style scoped>\n",
       "    .dataframe tbody tr th:only-of-type {\n",
       "        vertical-align: middle;\n",
       "    }\n",
       "\n",
       "    .dataframe tbody tr th {\n",
       "        vertical-align: top;\n",
       "    }\n",
       "\n",
       "    .dataframe thead th {\n",
       "        text-align: right;\n",
       "    }\n",
       "</style>\n",
       "<table border=\"1\" class=\"dataframe\">\n",
       "  <thead>\n",
       "    <tr style=\"text-align: right;\">\n",
       "      <th></th>\n",
       "      <th>Patient Id</th>\n",
       "      <th>Age</th>\n",
       "      <th>Gender</th>\n",
       "      <th>AirPollution</th>\n",
       "      <th>Alcoholuse</th>\n",
       "      <th>DustAllergy</th>\n",
       "      <th>OccuPationalHazards</th>\n",
       "      <th>GeneticRisk</th>\n",
       "      <th>chronicLungDisease</th>\n",
       "      <th>BalancedDiet</th>\n",
       "      <th>...</th>\n",
       "      <th>Fatigue</th>\n",
       "      <th>WeightLoss</th>\n",
       "      <th>ShortnessofBreath</th>\n",
       "      <th>Wheezing</th>\n",
       "      <th>SwallowingDifficulty</th>\n",
       "      <th>ClubbingofFingerNails</th>\n",
       "      <th>FrequentCold</th>\n",
       "      <th>DryCough</th>\n",
       "      <th>Snoring</th>\n",
       "      <th>Level</th>\n",
       "    </tr>\n",
       "  </thead>\n",
       "  <tbody>\n",
       "    <tr>\n",
       "      <th>0</th>\n",
       "      <td>P1</td>\n",
       "      <td>33</td>\n",
       "      <td>1</td>\n",
       "      <td>2</td>\n",
       "      <td>4</td>\n",
       "      <td>5</td>\n",
       "      <td>4</td>\n",
       "      <td>3</td>\n",
       "      <td>2</td>\n",
       "      <td>2</td>\n",
       "      <td>...</td>\n",
       "      <td>3</td>\n",
       "      <td>4</td>\n",
       "      <td>2</td>\n",
       "      <td>2</td>\n",
       "      <td>3</td>\n",
       "      <td>1</td>\n",
       "      <td>2</td>\n",
       "      <td>3</td>\n",
       "      <td>4</td>\n",
       "      <td>Low</td>\n",
       "    </tr>\n",
       "    <tr>\n",
       "      <th>1</th>\n",
       "      <td>P10</td>\n",
       "      <td>17</td>\n",
       "      <td>1</td>\n",
       "      <td>3</td>\n",
       "      <td>1</td>\n",
       "      <td>5</td>\n",
       "      <td>3</td>\n",
       "      <td>4</td>\n",
       "      <td>2</td>\n",
       "      <td>2</td>\n",
       "      <td>...</td>\n",
       "      <td>1</td>\n",
       "      <td>3</td>\n",
       "      <td>7</td>\n",
       "      <td>8</td>\n",
       "      <td>6</td>\n",
       "      <td>2</td>\n",
       "      <td>1</td>\n",
       "      <td>7</td>\n",
       "      <td>2</td>\n",
       "      <td>High</td>\n",
       "    </tr>\n",
       "    <tr>\n",
       "      <th>2</th>\n",
       "      <td>P100</td>\n",
       "      <td>35</td>\n",
       "      <td>1</td>\n",
       "      <td>4</td>\n",
       "      <td>5</td>\n",
       "      <td>6</td>\n",
       "      <td>5</td>\n",
       "      <td>5</td>\n",
       "      <td>4</td>\n",
       "      <td>6</td>\n",
       "      <td>...</td>\n",
       "      <td>8</td>\n",
       "      <td>7</td>\n",
       "      <td>9</td>\n",
       "      <td>2</td>\n",
       "      <td>1</td>\n",
       "      <td>4</td>\n",
       "      <td>6</td>\n",
       "      <td>7</td>\n",
       "      <td>2</td>\n",
       "      <td>High</td>\n",
       "    </tr>\n",
       "    <tr>\n",
       "      <th>3</th>\n",
       "      <td>P1000</td>\n",
       "      <td>37</td>\n",
       "      <td>1</td>\n",
       "      <td>7</td>\n",
       "      <td>7</td>\n",
       "      <td>7</td>\n",
       "      <td>7</td>\n",
       "      <td>6</td>\n",
       "      <td>7</td>\n",
       "      <td>7</td>\n",
       "      <td>...</td>\n",
       "      <td>4</td>\n",
       "      <td>2</td>\n",
       "      <td>3</td>\n",
       "      <td>1</td>\n",
       "      <td>4</td>\n",
       "      <td>5</td>\n",
       "      <td>6</td>\n",
       "      <td>7</td>\n",
       "      <td>5</td>\n",
       "      <td>High</td>\n",
       "    </tr>\n",
       "    <tr>\n",
       "      <th>4</th>\n",
       "      <td>P101</td>\n",
       "      <td>46</td>\n",
       "      <td>1</td>\n",
       "      <td>6</td>\n",
       "      <td>8</td>\n",
       "      <td>7</td>\n",
       "      <td>7</td>\n",
       "      <td>7</td>\n",
       "      <td>6</td>\n",
       "      <td>7</td>\n",
       "      <td>...</td>\n",
       "      <td>3</td>\n",
       "      <td>2</td>\n",
       "      <td>4</td>\n",
       "      <td>1</td>\n",
       "      <td>4</td>\n",
       "      <td>2</td>\n",
       "      <td>4</td>\n",
       "      <td>2</td>\n",
       "      <td>3</td>\n",
       "      <td>High</td>\n",
       "    </tr>\n",
       "  </tbody>\n",
       "</table>\n",
       "<p>5 rows × 25 columns</p>\n",
       "</div>"
      ],
      "text/plain": [
       "  Patient Id  Age  Gender  AirPollution  Alcoholuse  DustAllergy   \n",
       "0         P1   33       1             2           4            5  \\\n",
       "1        P10   17       1             3           1            5   \n",
       "2       P100   35       1             4           5            6   \n",
       "3      P1000   37       1             7           7            7   \n",
       "4       P101   46       1             6           8            7   \n",
       "\n",
       "   OccuPationalHazards  GeneticRisk  chronicLungDisease  BalancedDiet  ...   \n",
       "0                    4            3                   2             2  ...  \\\n",
       "1                    3            4                   2             2  ...   \n",
       "2                    5            5                   4             6  ...   \n",
       "3                    7            6                   7             7  ...   \n",
       "4                    7            7                   6             7  ...   \n",
       "\n",
       "   Fatigue  WeightLoss  ShortnessofBreath  Wheezing  SwallowingDifficulty   \n",
       "0        3           4                  2         2                     3  \\\n",
       "1        1           3                  7         8                     6   \n",
       "2        8           7                  9         2                     1   \n",
       "3        4           2                  3         1                     4   \n",
       "4        3           2                  4         1                     4   \n",
       "\n",
       "   ClubbingofFingerNails  FrequentCold  DryCough  Snoring  Level  \n",
       "0                      1             2         3        4    Low  \n",
       "1                      2             1         7        2   High  \n",
       "2                      4             6         7        2   High  \n",
       "3                      5             6         7        5   High  \n",
       "4                      2             4         2        3   High  \n",
       "\n",
       "[5 rows x 25 columns]"
      ]
     },
     "execution_count": 312,
     "metadata": {},
     "output_type": "execute_result"
    }
   ],
   "source": [
    "df.head()"
   ]
  },
  {
   "cell_type": "code",
   "execution_count": 313,
   "metadata": {},
   "outputs": [
    {
     "data": {
      "text/plain": [
       "0       Low\n",
       "1      High\n",
       "2      High\n",
       "3      High\n",
       "4      High\n",
       "       ... \n",
       "995    High\n",
       "996    High\n",
       "997    High\n",
       "998    High\n",
       "999    High\n",
       "Name: Level, Length: 1000, dtype: object"
      ]
     },
     "execution_count": 313,
     "metadata": {},
     "output_type": "execute_result"
    }
   ],
   "source": [
    "df['Level']"
   ]
  },
  {
   "cell_type": "code",
   "execution_count": 314,
   "metadata": {},
   "outputs": [],
   "source": [
    "df['Level'].replace('Medium','High',inplace=True)"
   ]
  },
  {
   "cell_type": "code",
   "execution_count": 315,
   "metadata": {},
   "outputs": [
    {
     "data": {
      "text/plain": [
       "0       Low\n",
       "1      High\n",
       "2      High\n",
       "3      High\n",
       "4      High\n",
       "       ... \n",
       "995    High\n",
       "996    High\n",
       "997    High\n",
       "998    High\n",
       "999    High\n",
       "Name: Level, Length: 1000, dtype: object"
      ]
     },
     "execution_count": 315,
     "metadata": {},
     "output_type": "execute_result"
    }
   ],
   "source": [
    "df['Level'] "
   ]
  },
  {
   "cell_type": "code",
   "execution_count": 316,
   "metadata": {},
   "outputs": [
    {
     "data": {
      "text/html": [
       "<div>\n",
       "<style scoped>\n",
       "    .dataframe tbody tr th:only-of-type {\n",
       "        vertical-align: middle;\n",
       "    }\n",
       "\n",
       "    .dataframe tbody tr th {\n",
       "        vertical-align: top;\n",
       "    }\n",
       "\n",
       "    .dataframe thead th {\n",
       "        text-align: right;\n",
       "    }\n",
       "</style>\n",
       "<table border=\"1\" class=\"dataframe\">\n",
       "  <thead>\n",
       "    <tr style=\"text-align: right;\">\n",
       "      <th></th>\n",
       "      <th>Patient Id</th>\n",
       "      <th>Age</th>\n",
       "      <th>Gender</th>\n",
       "      <th>AirPollution</th>\n",
       "      <th>Alcoholuse</th>\n",
       "      <th>DustAllergy</th>\n",
       "      <th>OccuPationalHazards</th>\n",
       "      <th>GeneticRisk</th>\n",
       "      <th>chronicLungDisease</th>\n",
       "      <th>BalancedDiet</th>\n",
       "      <th>...</th>\n",
       "      <th>Fatigue</th>\n",
       "      <th>WeightLoss</th>\n",
       "      <th>ShortnessofBreath</th>\n",
       "      <th>Wheezing</th>\n",
       "      <th>SwallowingDifficulty</th>\n",
       "      <th>ClubbingofFingerNails</th>\n",
       "      <th>FrequentCold</th>\n",
       "      <th>DryCough</th>\n",
       "      <th>Snoring</th>\n",
       "      <th>Level</th>\n",
       "    </tr>\n",
       "  </thead>\n",
       "  <tbody>\n",
       "    <tr>\n",
       "      <th>995</th>\n",
       "      <td>P995</td>\n",
       "      <td>44</td>\n",
       "      <td>1</td>\n",
       "      <td>6</td>\n",
       "      <td>7</td>\n",
       "      <td>7</td>\n",
       "      <td>7</td>\n",
       "      <td>7</td>\n",
       "      <td>6</td>\n",
       "      <td>7</td>\n",
       "      <td>...</td>\n",
       "      <td>5</td>\n",
       "      <td>3</td>\n",
       "      <td>2</td>\n",
       "      <td>7</td>\n",
       "      <td>8</td>\n",
       "      <td>2</td>\n",
       "      <td>4</td>\n",
       "      <td>5</td>\n",
       "      <td>3</td>\n",
       "      <td>High</td>\n",
       "    </tr>\n",
       "    <tr>\n",
       "      <th>996</th>\n",
       "      <td>P996</td>\n",
       "      <td>37</td>\n",
       "      <td>2</td>\n",
       "      <td>6</td>\n",
       "      <td>8</td>\n",
       "      <td>7</td>\n",
       "      <td>7</td>\n",
       "      <td>7</td>\n",
       "      <td>6</td>\n",
       "      <td>7</td>\n",
       "      <td>...</td>\n",
       "      <td>9</td>\n",
       "      <td>6</td>\n",
       "      <td>5</td>\n",
       "      <td>7</td>\n",
       "      <td>2</td>\n",
       "      <td>4</td>\n",
       "      <td>3</td>\n",
       "      <td>1</td>\n",
       "      <td>4</td>\n",
       "      <td>High</td>\n",
       "    </tr>\n",
       "    <tr>\n",
       "      <th>997</th>\n",
       "      <td>P997</td>\n",
       "      <td>25</td>\n",
       "      <td>2</td>\n",
       "      <td>4</td>\n",
       "      <td>5</td>\n",
       "      <td>6</td>\n",
       "      <td>5</td>\n",
       "      <td>5</td>\n",
       "      <td>4</td>\n",
       "      <td>6</td>\n",
       "      <td>...</td>\n",
       "      <td>8</td>\n",
       "      <td>7</td>\n",
       "      <td>9</td>\n",
       "      <td>2</td>\n",
       "      <td>1</td>\n",
       "      <td>4</td>\n",
       "      <td>6</td>\n",
       "      <td>7</td>\n",
       "      <td>2</td>\n",
       "      <td>High</td>\n",
       "    </tr>\n",
       "    <tr>\n",
       "      <th>998</th>\n",
       "      <td>P998</td>\n",
       "      <td>18</td>\n",
       "      <td>2</td>\n",
       "      <td>6</td>\n",
       "      <td>8</td>\n",
       "      <td>7</td>\n",
       "      <td>7</td>\n",
       "      <td>7</td>\n",
       "      <td>6</td>\n",
       "      <td>7</td>\n",
       "      <td>...</td>\n",
       "      <td>3</td>\n",
       "      <td>2</td>\n",
       "      <td>4</td>\n",
       "      <td>1</td>\n",
       "      <td>4</td>\n",
       "      <td>2</td>\n",
       "      <td>4</td>\n",
       "      <td>2</td>\n",
       "      <td>3</td>\n",
       "      <td>High</td>\n",
       "    </tr>\n",
       "    <tr>\n",
       "      <th>999</th>\n",
       "      <td>P999</td>\n",
       "      <td>47</td>\n",
       "      <td>1</td>\n",
       "      <td>6</td>\n",
       "      <td>5</td>\n",
       "      <td>6</td>\n",
       "      <td>5</td>\n",
       "      <td>5</td>\n",
       "      <td>4</td>\n",
       "      <td>6</td>\n",
       "      <td>...</td>\n",
       "      <td>8</td>\n",
       "      <td>7</td>\n",
       "      <td>9</td>\n",
       "      <td>2</td>\n",
       "      <td>1</td>\n",
       "      <td>4</td>\n",
       "      <td>6</td>\n",
       "      <td>7</td>\n",
       "      <td>2</td>\n",
       "      <td>High</td>\n",
       "    </tr>\n",
       "  </tbody>\n",
       "</table>\n",
       "<p>5 rows × 25 columns</p>\n",
       "</div>"
      ],
      "text/plain": [
       "    Patient Id  Age  Gender  AirPollution  Alcoholuse  DustAllergy   \n",
       "995       P995   44       1             6           7            7  \\\n",
       "996       P996   37       2             6           8            7   \n",
       "997       P997   25       2             4           5            6   \n",
       "998       P998   18       2             6           8            7   \n",
       "999       P999   47       1             6           5            6   \n",
       "\n",
       "     OccuPationalHazards  GeneticRisk  chronicLungDisease  BalancedDiet  ...   \n",
       "995                    7            7                   6             7  ...  \\\n",
       "996                    7            7                   6             7  ...   \n",
       "997                    5            5                   4             6  ...   \n",
       "998                    7            7                   6             7  ...   \n",
       "999                    5            5                   4             6  ...   \n",
       "\n",
       "     Fatigue  WeightLoss  ShortnessofBreath  Wheezing  SwallowingDifficulty   \n",
       "995        5           3                  2         7                     8  \\\n",
       "996        9           6                  5         7                     2   \n",
       "997        8           7                  9         2                     1   \n",
       "998        3           2                  4         1                     4   \n",
       "999        8           7                  9         2                     1   \n",
       "\n",
       "     ClubbingofFingerNails  FrequentCold  DryCough  Snoring  Level  \n",
       "995                      2             4         5        3   High  \n",
       "996                      4             3         1        4   High  \n",
       "997                      4             6         7        2   High  \n",
       "998                      2             4         2        3   High  \n",
       "999                      4             6         7        2   High  \n",
       "\n",
       "[5 rows x 25 columns]"
      ]
     },
     "execution_count": 316,
     "metadata": {},
     "output_type": "execute_result"
    }
   ],
   "source": [
    "df.tail()"
   ]
  },
  {
   "cell_type": "code",
   "execution_count": 317,
   "metadata": {},
   "outputs": [
    {
     "data": {
      "text/plain": [
       "Patient Id               0\n",
       "Age                      0\n",
       "Gender                   0\n",
       "AirPollution             0\n",
       "Alcoholuse               0\n",
       "DustAllergy              0\n",
       "OccuPationalHazards      0\n",
       "GeneticRisk              0\n",
       "chronicLungDisease       0\n",
       "BalancedDiet             0\n",
       "Obesity                  0\n",
       "Smoking                  0\n",
       "PassiveSmoker            0\n",
       "ChestPain                0\n",
       "CoughingofBlood          0\n",
       "Fatigue                  0\n",
       "WeightLoss               0\n",
       "ShortnessofBreath        0\n",
       "Wheezing                 0\n",
       "SwallowingDifficulty     0\n",
       "ClubbingofFingerNails    0\n",
       "FrequentCold             0\n",
       "DryCough                 0\n",
       "Snoring                  0\n",
       "Level                    0\n",
       "dtype: int64"
      ]
     },
     "execution_count": 317,
     "metadata": {},
     "output_type": "execute_result"
    }
   ],
   "source": [
    "df.isnull().sum()"
   ]
  },
  {
   "cell_type": "code",
   "execution_count": 318,
   "metadata": {},
   "outputs": [
    {
     "data": {
      "text/plain": [
       "Patient Id               False\n",
       "Age                      False\n",
       "Gender                   False\n",
       "AirPollution             False\n",
       "Alcoholuse               False\n",
       "DustAllergy              False\n",
       "OccuPationalHazards      False\n",
       "GeneticRisk              False\n",
       "chronicLungDisease       False\n",
       "BalancedDiet             False\n",
       "Obesity                  False\n",
       "Smoking                  False\n",
       "PassiveSmoker            False\n",
       "ChestPain                False\n",
       "CoughingofBlood          False\n",
       "Fatigue                  False\n",
       "WeightLoss               False\n",
       "ShortnessofBreath        False\n",
       "Wheezing                 False\n",
       "SwallowingDifficulty     False\n",
       "ClubbingofFingerNails    False\n",
       "FrequentCold             False\n",
       "DryCough                 False\n",
       "Snoring                  False\n",
       "Level                    False\n",
       "dtype: bool"
      ]
     },
     "execution_count": 318,
     "metadata": {},
     "output_type": "execute_result"
    }
   ],
   "source": [
    "df.isnull().any()"
   ]
  },
  {
   "cell_type": "code",
   "execution_count": 319,
   "metadata": {},
   "outputs": [
    {
     "data": {
      "text/plain": [
       "Patient Id               0\n",
       "Age                      0\n",
       "Gender                   0\n",
       "AirPollution             0\n",
       "Alcoholuse               0\n",
       "DustAllergy              0\n",
       "OccuPationalHazards      0\n",
       "GeneticRisk              0\n",
       "chronicLungDisease       0\n",
       "BalancedDiet             0\n",
       "Obesity                  0\n",
       "Smoking                  0\n",
       "PassiveSmoker            0\n",
       "ChestPain                0\n",
       "CoughingofBlood          0\n",
       "Fatigue                  0\n",
       "WeightLoss               0\n",
       "ShortnessofBreath        0\n",
       "Wheezing                 0\n",
       "SwallowingDifficulty     0\n",
       "ClubbingofFingerNails    0\n",
       "FrequentCold             0\n",
       "DryCough                 0\n",
       "Snoring                  0\n",
       "Level                    0\n",
       "dtype: int64"
      ]
     },
     "execution_count": 319,
     "metadata": {},
     "output_type": "execute_result"
    }
   ],
   "source": [
    "df.isnull().sum()"
   ]
  },
  {
   "cell_type": "code",
   "execution_count": 320,
   "metadata": {},
   "outputs": [],
   "source": [
    "df.drop(columns=['Obesity','PassiveSmoker','SwallowingDifficulty','ClubbingofFingerNails','Snoring','chronicLungDisease'],inplace=True)"
   ]
  },
  {
   "cell_type": "code",
   "execution_count": 321,
   "metadata": {},
   "outputs": [
    {
     "name": "stdout",
     "output_type": "stream",
     "text": [
      "<class 'pandas.core.frame.DataFrame'>\n",
      "RangeIndex: 1000 entries, 0 to 999\n",
      "Data columns (total 19 columns):\n",
      " #   Column               Non-Null Count  Dtype \n",
      "---  ------               --------------  ----- \n",
      " 0   Patient Id           1000 non-null   object\n",
      " 1   Age                  1000 non-null   int64 \n",
      " 2   Gender               1000 non-null   int64 \n",
      " 3   AirPollution         1000 non-null   int64 \n",
      " 4   Alcoholuse           1000 non-null   int64 \n",
      " 5   DustAllergy          1000 non-null   int64 \n",
      " 6   OccuPationalHazards  1000 non-null   int64 \n",
      " 7   GeneticRisk          1000 non-null   int64 \n",
      " 8   BalancedDiet         1000 non-null   int64 \n",
      " 9   Smoking              1000 non-null   int64 \n",
      " 10  ChestPain            1000 non-null   int64 \n",
      " 11  CoughingofBlood      1000 non-null   int64 \n",
      " 12  Fatigue              1000 non-null   int64 \n",
      " 13  WeightLoss           1000 non-null   int64 \n",
      " 14  ShortnessofBreath    1000 non-null   int64 \n",
      " 15  Wheezing             1000 non-null   int64 \n",
      " 16  FrequentCold         1000 non-null   int64 \n",
      " 17  DryCough             1000 non-null   int64 \n",
      " 18  Level                1000 non-null   object\n",
      "dtypes: int64(17), object(2)\n",
      "memory usage: 148.6+ KB\n"
     ]
    }
   ],
   "source": [
    "df.info()"
   ]
  },
  {
   "cell_type": "code",
   "execution_count": 322,
   "metadata": {},
   "outputs": [
    {
     "data": {
      "text/plain": [
       "<Axes: >"
      ]
     },
     "execution_count": 322,
     "metadata": {},
     "output_type": "execute_result"
    },
    {
     "data": {
      "image/png": "[encoded data removed]",
      "text/plain": [
       "<Figure size 640x480 with 2 Axes>"
      ]
     },
     "metadata": {},
     "output_type": "display_data"
    }
   ],
   "source": [
    "sns.heatmap(df.isnull())"
   ]
  },
  {
   "cell_type": "code",
   "execution_count": 323,
   "metadata": {},
   "outputs": [],
   "source": [
    "df['Level'].replace('Low',0,inplace=True)\n",
    "df['Level'].replace('High',1,inplace=True)"
   ]
  },
  {
   "cell_type": "code",
   "execution_count": 324,
   "metadata": {},
   "outputs": [
    {
     "data": {
      "text/plain": [
       "0      0\n",
       "1      1\n",
       "2      1\n",
       "3      1\n",
       "4      1\n",
       "      ..\n",
       "995    1\n",
       "996    1\n",
       "997    1\n",
       "998    1\n",
       "999    1\n",
       "Name: Level, Length: 1000, dtype: int64"
      ]
     },
     "execution_count": 324,
     "metadata": {},
     "output_type": "execute_result"
    }
   ],
   "source": [
    "df['Level']"
   ]
  },
  {
   "cell_type": "code",
   "execution_count": 325,
   "metadata": {},
   "outputs": [
    {
     "data": {
      "text/html": [
       "<div>\n",
       "<style scoped>\n",
       "    .dataframe tbody tr th:only-of-type {\n",
       "        vertical-align: middle;\n",
       "    }\n",
       "\n",
       "    .dataframe tbody tr th {\n",
       "        vertical-align: top;\n",
       "    }\n",
       "\n",
       "    .dataframe thead th {\n",
       "        text-align: right;\n",
       "    }\n",
       "</style>\n",
       "<table border=\"1\" class=\"dataframe\">\n",
       "  <thead>\n",
       "    <tr style=\"text-align: right;\">\n",
       "      <th></th>\n",
       "      <th>Patient Id</th>\n",
       "      <th>Age</th>\n",
       "      <th>Gender</th>\n",
       "      <th>AirPollution</th>\n",
       "      <th>Alcoholuse</th>\n",
       "      <th>DustAllergy</th>\n",
       "      <th>OccuPationalHazards</th>\n",
       "      <th>GeneticRisk</th>\n",
       "      <th>BalancedDiet</th>\n",
       "      <th>Smoking</th>\n",
       "      <th>ChestPain</th>\n",
       "      <th>CoughingofBlood</th>\n",
       "      <th>Fatigue</th>\n",
       "      <th>WeightLoss</th>\n",
       "      <th>ShortnessofBreath</th>\n",
       "      <th>Wheezing</th>\n",
       "      <th>FrequentCold</th>\n",
       "      <th>DryCough</th>\n",
       "      <th>Level</th>\n",
       "    </tr>\n",
       "  </thead>\n",
       "  <tbody>\n",
       "    <tr>\n",
       "      <th>0</th>\n",
       "      <td>P1</td>\n",
       "      <td>33</td>\n",
       "      <td>1</td>\n",
       "      <td>2</td>\n",
       "      <td>4</td>\n",
       "      <td>5</td>\n",
       "      <td>4</td>\n",
       "      <td>3</td>\n",
       "      <td>2</td>\n",
       "      <td>3</td>\n",
       "      <td>2</td>\n",
       "      <td>4</td>\n",
       "      <td>3</td>\n",
       "      <td>4</td>\n",
       "      <td>2</td>\n",
       "      <td>2</td>\n",
       "      <td>2</td>\n",
       "      <td>3</td>\n",
       "      <td>0</td>\n",
       "    </tr>\n",
       "    <tr>\n",
       "      <th>1</th>\n",
       "      <td>P10</td>\n",
       "      <td>17</td>\n",
       "      <td>1</td>\n",
       "      <td>3</td>\n",
       "      <td>1</td>\n",
       "      <td>5</td>\n",
       "      <td>3</td>\n",
       "      <td>4</td>\n",
       "      <td>2</td>\n",
       "      <td>2</td>\n",
       "      <td>2</td>\n",
       "      <td>3</td>\n",
       "      <td>1</td>\n",
       "      <td>3</td>\n",
       "      <td>7</td>\n",
       "      <td>8</td>\n",
       "      <td>1</td>\n",
       "      <td>7</td>\n",
       "      <td>1</td>\n",
       "    </tr>\n",
       "    <tr>\n",
       "      <th>2</th>\n",
       "      <td>P100</td>\n",
       "      <td>35</td>\n",
       "      <td>1</td>\n",
       "      <td>4</td>\n",
       "      <td>5</td>\n",
       "      <td>6</td>\n",
       "      <td>5</td>\n",
       "      <td>5</td>\n",
       "      <td>6</td>\n",
       "      <td>2</td>\n",
       "      <td>4</td>\n",
       "      <td>8</td>\n",
       "      <td>8</td>\n",
       "      <td>7</td>\n",
       "      <td>9</td>\n",
       "      <td>2</td>\n",
       "      <td>6</td>\n",
       "      <td>7</td>\n",
       "      <td>1</td>\n",
       "    </tr>\n",
       "    <tr>\n",
       "      <th>3</th>\n",
       "      <td>P1000</td>\n",
       "      <td>37</td>\n",
       "      <td>1</td>\n",
       "      <td>7</td>\n",
       "      <td>7</td>\n",
       "      <td>7</td>\n",
       "      <td>7</td>\n",
       "      <td>6</td>\n",
       "      <td>7</td>\n",
       "      <td>7</td>\n",
       "      <td>7</td>\n",
       "      <td>8</td>\n",
       "      <td>4</td>\n",
       "      <td>2</td>\n",
       "      <td>3</td>\n",
       "      <td>1</td>\n",
       "      <td>6</td>\n",
       "      <td>7</td>\n",
       "      <td>1</td>\n",
       "    </tr>\n",
       "    <tr>\n",
       "      <th>4</th>\n",
       "      <td>P101</td>\n",
       "      <td>46</td>\n",
       "      <td>1</td>\n",
       "      <td>6</td>\n",
       "      <td>8</td>\n",
       "      <td>7</td>\n",
       "      <td>7</td>\n",
       "      <td>7</td>\n",
       "      <td>7</td>\n",
       "      <td>8</td>\n",
       "      <td>7</td>\n",
       "      <td>9</td>\n",
       "      <td>3</td>\n",
       "      <td>2</td>\n",
       "      <td>4</td>\n",
       "      <td>1</td>\n",
       "      <td>4</td>\n",
       "      <td>2</td>\n",
       "      <td>1</td>\n",
       "    </tr>\n",
       "  </tbody>\n",
       "</table>\n",
       "</div>"
      ],
      "text/plain": [
       "  Patient Id  Age  Gender  AirPollution  Alcoholuse  DustAllergy   \n",
       "0         P1   33       1             2           4            5  \\\n",
       "1        P10   17       1             3           1            5   \n",
       "2       P100   35       1             4           5            6   \n",
       "3      P1000   37       1             7           7            7   \n",
       "4       P101   46       1             6           8            7   \n",
       "\n",
       "   OccuPationalHazards  GeneticRisk  BalancedDiet  Smoking  ChestPain   \n",
       "0                    4            3             2        3          2  \\\n",
       "1                    3            4             2        2          2   \n",
       "2                    5            5             6        2          4   \n",
       "3                    7            6             7        7          7   \n",
       "4                    7            7             7        8          7   \n",
       "\n",
       "   CoughingofBlood  Fatigue  WeightLoss  ShortnessofBreath  Wheezing   \n",
       "0                4        3           4                  2         2  \\\n",
       "1                3        1           3                  7         8   \n",
       "2                8        8           7                  9         2   \n",
       "3                8        4           2                  3         1   \n",
       "4                9        3           2                  4         1   \n",
       "\n",
       "   FrequentCold  DryCough  Level  \n",
       "0             2         3      0  \n",
       "1             1         7      1  \n",
       "2             6         7      1  \n",
       "3             6         7      1  \n",
       "4             4         2      1  "
      ]
     },
     "execution_count": 325,
     "metadata": {},
     "output_type": "execute_result"
    }
   ],
   "source": [
    "df.head()"
   ]
  },
  {
   "cell_type": "code",
   "execution_count": 326,
   "metadata": {},
   "outputs": [],
   "source": [
    "df.drop(['Patient Id'],axis=1,inplace=True)"
   ]
  },
  {
   "cell_type": "code",
   "execution_count": 327,
   "metadata": {},
   "outputs": [
    {
     "data": {
      "text/html": [
       "<div>\n",
       "<style scoped>\n",
       "    .dataframe tbody tr th:only-of-type {\n",
       "        vertical-align: middle;\n",
       "    }\n",
       "\n",
       "    .dataframe tbody tr th {\n",
       "        vertical-align: top;\n",
       "    }\n",
       "\n",
       "    .dataframe thead th {\n",
       "        text-align: right;\n",
       "    }\n",
       "</style>\n",
       "<table border=\"1\" class=\"dataframe\">\n",
       "  <thead>\n",
       "    <tr style=\"text-align: right;\">\n",
       "      <th></th>\n",
       "      <th>Age</th>\n",
       "      <th>Gender</th>\n",
       "      <th>AirPollution</th>\n",
       "      <th>Alcoholuse</th>\n",
       "      <th>DustAllergy</th>\n",
       "      <th>OccuPationalHazards</th>\n",
       "      <th>GeneticRisk</th>\n",
       "      <th>BalancedDiet</th>\n",
       "      <th>Smoking</th>\n",
       "      <th>ChestPain</th>\n",
       "      <th>CoughingofBlood</th>\n",
       "      <th>Fatigue</th>\n",
       "      <th>WeightLoss</th>\n",
       "      <th>ShortnessofBreath</th>\n",
       "      <th>Wheezing</th>\n",
       "      <th>FrequentCold</th>\n",
       "      <th>DryCough</th>\n",
       "      <th>Level</th>\n",
       "    </tr>\n",
       "  </thead>\n",
       "  <tbody>\n",
       "    <tr>\n",
       "      <th>0</th>\n",
       "      <td>33</td>\n",
       "      <td>1</td>\n",
       "      <td>2</td>\n",
       "      <td>4</td>\n",
       "      <td>5</td>\n",
       "      <td>4</td>\n",
       "      <td>3</td>\n",
       "      <td>2</td>\n",
       "      <td>3</td>\n",
       "      <td>2</td>\n",
       "      <td>4</td>\n",
       "      <td>3</td>\n",
       "      <td>4</td>\n",
       "      <td>2</td>\n",
       "      <td>2</td>\n",
       "      <td>2</td>\n",
       "      <td>3</td>\n",
       "      <td>0</td>\n",
       "    </tr>\n",
       "    <tr>\n",
       "      <th>1</th>\n",
       "      <td>17</td>\n",
       "      <td>1</td>\n",
       "      <td>3</td>\n",
       "      <td>1</td>\n",
       "      <td>5</td>\n",
       "      <td>3</td>\n",
       "      <td>4</td>\n",
       "      <td>2</td>\n",
       "      <td>2</td>\n",
       "      <td>2</td>\n",
       "      <td>3</td>\n",
       "      <td>1</td>\n",
       "      <td>3</td>\n",
       "      <td>7</td>\n",
       "      <td>8</td>\n",
       "      <td>1</td>\n",
       "      <td>7</td>\n",
       "      <td>1</td>\n",
       "    </tr>\n",
       "    <tr>\n",
       "      <th>2</th>\n",
       "      <td>35</td>\n",
       "      <td>1</td>\n",
       "      <td>4</td>\n",
       "      <td>5</td>\n",
       "      <td>6</td>\n",
       "      <td>5</td>\n",
       "      <td>5</td>\n",
       "      <td>6</td>\n",
       "      <td>2</td>\n",
       "      <td>4</td>\n",
       "      <td>8</td>\n",
       "      <td>8</td>\n",
       "      <td>7</td>\n",
       "      <td>9</td>\n",
       "      <td>2</td>\n",
       "      <td>6</td>\n",
       "      <td>7</td>\n",
       "      <td>1</td>\n",
       "    </tr>\n",
       "    <tr>\n",
       "      <th>3</th>\n",
       "      <td>37</td>\n",
       "      <td>1</td>\n",
       "      <td>7</td>\n",
       "      <td>7</td>\n",
       "      <td>7</td>\n",
       "      <td>7</td>\n",
       "      <td>6</td>\n",
       "      <td>7</td>\n",
       "      <td>7</td>\n",
       "      <td>7</td>\n",
       "      <td>8</td>\n",
       "      <td>4</td>\n",
       "      <td>2</td>\n",
       "      <td>3</td>\n",
       "      <td>1</td>\n",
       "      <td>6</td>\n",
       "      <td>7</td>\n",
       "      <td>1</td>\n",
       "    </tr>\n",
       "    <tr>\n",
       "      <th>4</th>\n",
       "      <td>46</td>\n",
       "      <td>1</td>\n",
       "      <td>6</td>\n",
       "      <td>8</td>\n",
       "      <td>7</td>\n",
       "      <td>7</td>\n",
       "      <td>7</td>\n",
       "      <td>7</td>\n",
       "      <td>8</td>\n",
       "      <td>7</td>\n",
       "      <td>9</td>\n",
       "      <td>3</td>\n",
       "      <td>2</td>\n",
       "      <td>4</td>\n",
       "      <td>1</td>\n",
       "      <td>4</td>\n",
       "      <td>2</td>\n",
       "      <td>1</td>\n",
       "    </tr>\n",
       "  </tbody>\n",
       "</table>\n",
       "</div>"
      ],
      "text/plain": [
       "   Age  Gender  AirPollution  Alcoholuse  DustAllergy  OccuPationalHazards   \n",
       "0   33       1             2           4            5                    4  \\\n",
       "1   17       1             3           1            5                    3   \n",
       "2   35       1             4           5            6                    5   \n",
       "3   37       1             7           7            7                    7   \n",
       "4   46       1             6           8            7                    7   \n",
       "\n",
       "   GeneticRisk  BalancedDiet  Smoking  ChestPain  CoughingofBlood  Fatigue   \n",
       "0            3             2        3          2                4        3  \\\n",
       "1            4             2        2          2                3        1   \n",
       "2            5             6        2          4                8        8   \n",
       "3            6             7        7          7                8        4   \n",
       "4            7             7        8          7                9        3   \n",
       "\n",
       "   WeightLoss  ShortnessofBreath  Wheezing  FrequentCold  DryCough  Level  \n",
       "0           4                  2         2             2         3      0  \n",
       "1           3                  7         8             1         7      1  \n",
       "2           7                  9         2             6         7      1  \n",
       "3           2                  3         1             6         7      1  \n",
       "4           2                  4         1             4         2      1  "
      ]
     },
     "execution_count": 327,
     "metadata": {},
     "output_type": "execute_result"
    }
   ],
   "source": [
    "df.head()"
   ]
  },
  {
   "cell_type": "code",
   "execution_count": 328,
   "metadata": {},
   "outputs": [],
   "source": [
    "X=df.drop(['Level'],axis=1)\n",
    "y=df['Level']"
   ]
  },
  {
   "cell_type": "code",
   "execution_count": 329,
   "metadata": {},
   "outputs": [
    {
     "data": {
      "text/html": [
       "<div>\n",
       "<style scoped>\n",
       "    .dataframe tbody tr th:only-of-type {\n",
       "        vertical-align: middle;\n",
       "    }\n",
       "\n",
       "    .dataframe tbody tr th {\n",
       "        vertical-align: top;\n",
       "    }\n",
       "\n",
       "    .dataframe thead th {\n",
       "        text-align: right;\n",
       "    }\n",
       "</style>\n",
       "<table border=\"1\" class=\"dataframe\">\n",
       "  <thead>\n",
       "    <tr style=\"text-align: right;\">\n",
       "      <th></th>\n",
       "      <th>Age</th>\n",
       "      <th>Gender</th>\n",
       "      <th>AirPollution</th>\n",
       "      <th>Alcoholuse</th>\n",
       "      <th>DustAllergy</th>\n",
       "      <th>OccuPationalHazards</th>\n",
       "      <th>GeneticRisk</th>\n",
       "      <th>BalancedDiet</th>\n",
       "      <th>Smoking</th>\n",
       "      <th>ChestPain</th>\n",
       "      <th>CoughingofBlood</th>\n",
       "      <th>Fatigue</th>\n",
       "      <th>WeightLoss</th>\n",
       "      <th>ShortnessofBreath</th>\n",
       "      <th>Wheezing</th>\n",
       "      <th>FrequentCold</th>\n",
       "      <th>DryCough</th>\n",
       "    </tr>\n",
       "  </thead>\n",
       "  <tbody>\n",
       "    <tr>\n",
       "      <th>0</th>\n",
       "      <td>33</td>\n",
       "      <td>1</td>\n",
       "      <td>2</td>\n",
       "      <td>4</td>\n",
       "      <td>5</td>\n",
       "      <td>4</td>\n",
       "      <td>3</td>\n",
       "      <td>2</td>\n",
       "      <td>3</td>\n",
       "      <td>2</td>\n",
       "      <td>4</td>\n",
       "      <td>3</td>\n",
       "      <td>4</td>\n",
       "      <td>2</td>\n",
       "      <td>2</td>\n",
       "      <td>2</td>\n",
       "      <td>3</td>\n",
       "    </tr>\n",
       "    <tr>\n",
       "      <th>1</th>\n",
       "      <td>17</td>\n",
       "      <td>1</td>\n",
       "      <td>3</td>\n",
       "      <td>1</td>\n",
       "      <td>5</td>\n",
       "      <td>3</td>\n",
       "      <td>4</td>\n",
       "      <td>2</td>\n",
       "      <td>2</td>\n",
       "      <td>2</td>\n",
       "      <td>3</td>\n",
       "      <td>1</td>\n",
       "      <td>3</td>\n",
       "      <td>7</td>\n",
       "      <td>8</td>\n",
       "      <td>1</td>\n",
       "      <td>7</td>\n",
       "    </tr>\n",
       "    <tr>\n",
       "      <th>2</th>\n",
       "      <td>35</td>\n",
       "      <td>1</td>\n",
       "      <td>4</td>\n",
       "      <td>5</td>\n",
       "      <td>6</td>\n",
       "      <td>5</td>\n",
       "      <td>5</td>\n",
       "      <td>6</td>\n",
       "      <td>2</td>\n",
       "      <td>4</td>\n",
       "      <td>8</td>\n",
       "      <td>8</td>\n",
       "      <td>7</td>\n",
       "      <td>9</td>\n",
       "      <td>2</td>\n",
       "      <td>6</td>\n",
       "      <td>7</td>\n",
       "    </tr>\n",
       "    <tr>\n",
       "      <th>3</th>\n",
       "      <td>37</td>\n",
       "      <td>1</td>\n",
       "      <td>7</td>\n",
       "      <td>7</td>\n",
       "      <td>7</td>\n",
       "      <td>7</td>\n",
       "      <td>6</td>\n",
       "      <td>7</td>\n",
       "      <td>7</td>\n",
       "      <td>7</td>\n",
       "      <td>8</td>\n",
       "      <td>4</td>\n",
       "      <td>2</td>\n",
       "      <td>3</td>\n",
       "      <td>1</td>\n",
       "      <td>6</td>\n",
       "      <td>7</td>\n",
       "    </tr>\n",
       "    <tr>\n",
       "      <th>4</th>\n",
       "      <td>46</td>\n",
       "      <td>1</td>\n",
       "      <td>6</td>\n",
       "      <td>8</td>\n",
       "      <td>7</td>\n",
       "      <td>7</td>\n",
       "      <td>7</td>\n",
       "      <td>7</td>\n",
       "      <td>8</td>\n",
       "      <td>7</td>\n",
       "      <td>9</td>\n",
       "      <td>3</td>\n",
       "      <td>2</td>\n",
       "      <td>4</td>\n",
       "      <td>1</td>\n",
       "      <td>4</td>\n",
       "      <td>2</td>\n",
       "    </tr>\n",
       "    <tr>\n",
       "      <th>...</th>\n",
       "      <td>...</td>\n",
       "      <td>...</td>\n",
       "      <td>...</td>\n",
       "      <td>...</td>\n",
       "      <td>...</td>\n",
       "      <td>...</td>\n",
       "      <td>...</td>\n",
       "      <td>...</td>\n",
       "      <td>...</td>\n",
       "      <td>...</td>\n",
       "      <td>...</td>\n",
       "      <td>...</td>\n",
       "      <td>...</td>\n",
       "      <td>...</td>\n",
       "      <td>...</td>\n",
       "      <td>...</td>\n",
       "      <td>...</td>\n",
       "    </tr>\n",
       "    <tr>\n",
       "      <th>995</th>\n",
       "      <td>44</td>\n",
       "      <td>1</td>\n",
       "      <td>6</td>\n",
       "      <td>7</td>\n",
       "      <td>7</td>\n",
       "      <td>7</td>\n",
       "      <td>7</td>\n",
       "      <td>7</td>\n",
       "      <td>7</td>\n",
       "      <td>7</td>\n",
       "      <td>7</td>\n",
       "      <td>5</td>\n",
       "      <td>3</td>\n",
       "      <td>2</td>\n",
       "      <td>7</td>\n",
       "      <td>4</td>\n",
       "      <td>5</td>\n",
       "    </tr>\n",
       "    <tr>\n",
       "      <th>996</th>\n",
       "      <td>37</td>\n",
       "      <td>2</td>\n",
       "      <td>6</td>\n",
       "      <td>8</td>\n",
       "      <td>7</td>\n",
       "      <td>7</td>\n",
       "      <td>7</td>\n",
       "      <td>7</td>\n",
       "      <td>7</td>\n",
       "      <td>7</td>\n",
       "      <td>7</td>\n",
       "      <td>9</td>\n",
       "      <td>6</td>\n",
       "      <td>5</td>\n",
       "      <td>7</td>\n",
       "      <td>3</td>\n",
       "      <td>1</td>\n",
       "    </tr>\n",
       "    <tr>\n",
       "      <th>997</th>\n",
       "      <td>25</td>\n",
       "      <td>2</td>\n",
       "      <td>4</td>\n",
       "      <td>5</td>\n",
       "      <td>6</td>\n",
       "      <td>5</td>\n",
       "      <td>5</td>\n",
       "      <td>6</td>\n",
       "      <td>2</td>\n",
       "      <td>4</td>\n",
       "      <td>8</td>\n",
       "      <td>8</td>\n",
       "      <td>7</td>\n",
       "      <td>9</td>\n",
       "      <td>2</td>\n",
       "      <td>6</td>\n",
       "      <td>7</td>\n",
       "    </tr>\n",
       "    <tr>\n",
       "      <th>998</th>\n",
       "      <td>18</td>\n",
       "      <td>2</td>\n",
       "      <td>6</td>\n",
       "      <td>8</td>\n",
       "      <td>7</td>\n",
       "      <td>7</td>\n",
       "      <td>7</td>\n",
       "      <td>7</td>\n",
       "      <td>8</td>\n",
       "      <td>7</td>\n",
       "      <td>9</td>\n",
       "      <td>3</td>\n",
       "      <td>2</td>\n",
       "      <td>4</td>\n",
       "      <td>1</td>\n",
       "      <td>4</td>\n",
       "      <td>2</td>\n",
       "    </tr>\n",
       "    <tr>\n",
       "      <th>999</th>\n",
       "      <td>47</td>\n",
       "      <td>1</td>\n",
       "      <td>6</td>\n",
       "      <td>5</td>\n",
       "      <td>6</td>\n",
       "      <td>5</td>\n",
       "      <td>5</td>\n",
       "      <td>6</td>\n",
       "      <td>2</td>\n",
       "      <td>4</td>\n",
       "      <td>8</td>\n",
       "      <td>8</td>\n",
       "      <td>7</td>\n",
       "      <td>9</td>\n",
       "      <td>2</td>\n",
       "      <td>6</td>\n",
       "      <td>7</td>\n",
       "    </tr>\n",
       "  </tbody>\n",
       "</table>\n",
       "<p>1000 rows × 17 columns</p>\n",
       "</div>"
      ],
      "text/plain": [
       "     Age  Gender  AirPollution  Alcoholuse  DustAllergy  OccuPationalHazards   \n",
       "0     33       1             2           4            5                    4  \\\n",
       "1     17       1             3           1            5                    3   \n",
       "2     35       1             4           5            6                    5   \n",
       "3     37       1             7           7            7                    7   \n",
       "4     46       1             6           8            7                    7   \n",
       "..   ...     ...           ...         ...          ...                  ...   \n",
       "995   44       1             6           7            7                    7   \n",
       "996   37       2             6           8            7                    7   \n",
       "997   25       2             4           5            6                    5   \n",
       "998   18       2             6           8            7                    7   \n",
       "999   47       1             6           5            6                    5   \n",
       "\n",
       "     GeneticRisk  BalancedDiet  Smoking  ChestPain  CoughingofBlood  Fatigue   \n",
       "0              3             2        3          2                4        3  \\\n",
       "1              4             2        2          2                3        1   \n",
       "2              5             6        2          4                8        8   \n",
       "3              6             7        7          7                8        4   \n",
       "4              7             7        8          7                9        3   \n",
       "..           ...           ...      ...        ...              ...      ...   \n",
       "995            7             7        7          7                7        5   \n",
       "996            7             7        7          7                7        9   \n",
       "997            5             6        2          4                8        8   \n",
       "998            7             7        8          7                9        3   \n",
       "999            5             6        2          4                8        8   \n",
       "\n",
       "     WeightLoss  ShortnessofBreath  Wheezing  FrequentCold  DryCough  \n",
       "0             4                  2         2             2         3  \n",
       "1             3                  7         8             1         7  \n",
       "2             7                  9         2             6         7  \n",
       "3             2                  3         1             6         7  \n",
       "4             2                  4         1             4         2  \n",
       "..          ...                ...       ...           ...       ...  \n",
       "995           3                  2         7             4         5  \n",
       "996           6                  5         7             3         1  \n",
       "997           7                  9         2             6         7  \n",
       "998           2                  4         1             4         2  \n",
       "999           7                  9         2             6         7  \n",
       "\n",
       "[1000 rows x 17 columns]"
      ]
     },
     "execution_count": 329,
     "metadata": {},
     "output_type": "execute_result"
    }
   ],
   "source": [
    "X"
   ]
  },
  {
   "cell_type": "code",
   "execution_count": 377,
   "metadata": {},
   "outputs": [
    {
     "name": "stdout",
     "output_type": "stream",
     "text": [
      "<class 'pandas.core.frame.DataFrame'>\n",
      "RangeIndex: 1000 entries, 0 to 999\n",
      "Data columns (total 17 columns):\n",
      " #   Column               Non-Null Count  Dtype\n",
      "---  ------               --------------  -----\n",
      " 0   Age                  1000 non-null   int64\n",
      " 1   Gender               1000 non-null   int64\n",
      " 2   AirPollution         1000 non-null   int64\n",
      " 3   Alcoholuse           1000 non-null   int64\n",
      " 4   DustAllergy          1000 non-null   int64\n",
      " 5   OccuPationalHazards  1000 non-null   int64\n",
      " 6   GeneticRisk          1000 non-null   int64\n",
      " 7   BalancedDiet         1000 non-null   int64\n",
      " 8   Smoking              1000 non-null   int64\n",
      " 9   ChestPain            1000 non-null   int64\n",
      " 10  CoughingofBlood      1000 non-null   int64\n",
      " 11  Fatigue              1000 non-null   int64\n",
      " 12  WeightLoss           1000 non-null   int64\n",
      " 13  ShortnessofBreath    1000 non-null   int64\n",
      " 14  Wheezing             1000 non-null   int64\n",
      " 15  FrequentCold         1000 non-null   int64\n",
      " 16  DryCough             1000 non-null   int64\n",
      "dtypes: int64(17)\n",
      "memory usage: 132.9 KB\n"
     ]
    }
   ],
   "source": [
    "X.info()"
   ]
  },
  {
   "cell_type": "code",
   "execution_count": 331,
   "metadata": {},
   "outputs": [
    {
     "data": {
      "text/plain": [
       "0      0\n",
       "1      1\n",
       "2      1\n",
       "3      1\n",
       "4      1\n",
       "      ..\n",
       "995    1\n",
       "996    1\n",
       "997    1\n",
       "998    1\n",
       "999    1\n",
       "Name: Level, Length: 1000, dtype: int64"
      ]
     },
     "execution_count": 331,
     "metadata": {},
     "output_type": "execute_result"
    }
   ],
   "source": [
    "y"
   ]
  },
  {
   "cell_type": "code",
   "execution_count": 332,
   "metadata": {},
   "outputs": [
    {
     "data": {
      "text/plain": [
       "<Axes: xlabel='Smoking', ylabel='count'>"
      ]
     },
     "execution_count": 332,
     "metadata": {},
     "output_type": "execute_result"
    },
    {
     "data": {
      "image/png": "[encoded data removed]",
      "text/plain": [
       "<Figure size 1000x500 with 1 Axes>"
      ]
     },
     "metadata": {},
     "output_type": "display_data"
    }
   ],
   "source": [
    "plt.figure(figsize = (10, 5))\n",
    "sns.countplot(x='Smoking',data=df)"
   ]
  },
  {
   "cell_type": "code",
   "execution_count": 333,
   "metadata": {},
   "outputs": [
    {
     "data": {
      "text/plain": [
       "<Axes: xlabel='ChestPain', ylabel='count'>"
      ]
     },
     "execution_count": 333,
     "metadata": {},
     "output_type": "execute_result"
    },
    {
     "data": {
      "image/png": "[encoded data removed]",
      "text/plain": [
       "<Figure size 1000x1000 with 1 Axes>"
      ]
     },
     "metadata": {},
     "output_type": "display_data"
    }
   ],
   "source": [
    "plt.figure(figsize = (10, 10))\n",
    "sns.countplot(x='ChestPain',data=df)"
   ]
  },
  {
   "cell_type": "code",
   "execution_count": 334,
   "metadata": {},
   "outputs": [
    {
     "data": {
      "text/plain": [
       "<Axes: xlabel='ChestPain', ylabel='Age'>"
      ]
     },
     "execution_count": 334,
     "metadata": {},
     "output_type": "execute_result"
    },
    {
     "data": {
      "image/png": "[encoded data removed]",
      "text/plain": [
       "<Figure size 1500x1000 with 1 Axes>"
      ]
     },
     "metadata": {},
     "output_type": "display_data"
    }
   ],
   "source": [
    "plt.figure(figsize = (15, 10))\n",
    "sns.boxplot(x='ChestPain',y='Age',data=df)"
   ]
  },
  {
   "cell_type": "code",
   "execution_count": 335,
   "metadata": {},
   "outputs": [
    {
     "data": {
      "text/plain": [
       "<Axes: xlabel='Smoking', ylabel='count'>"
      ]
     },
     "execution_count": 335,
     "metadata": {},
     "output_type": "execute_result"
    },
    {
     "data": {
      "image/png": "[encoded data removed]",
      "text/plain": [
       "<Figure size 1500x1000 with 1 Axes>"
      ]
     },
     "metadata": {},
     "output_type": "display_data"
    }
   ],
   "source": [
    "plt.figure(figsize = (15, 10))\n",
    "sns.countplot(x='Smoking',hue='Gender',data=df)"
   ]
  },
  {
   "cell_type": "code",
   "execution_count": 336,
   "metadata": {},
   "outputs": [
    {
     "data": {
      "text/plain": [
       "Text(0.5, 1.0, 'Lungs Cancer Detect in the Age')"
      ]
     },
     "execution_count": 336,
     "metadata": {},
     "output_type": "execute_result"
    },
    {
     "data": {
      "image/png": "[encoded data removed]",
      "text/plain": [
       "<Figure size 1000x1000 with 1 Axes>"
      ]
     },
     "metadata": {},
     "output_type": "display_data"
    }
   ],
   "source": [
    "plt.figure(figsize = (10, 10))\n",
    "df['Age'].plot.hist()\n",
    "plt.title('Lungs Cancer Detect in the Age')"
   ]
  },
  {
   "cell_type": "code",
   "execution_count": 337,
   "metadata": {},
   "outputs": [
    {
     "data": {
      "text/plain": [
       "(0.0, 10.0)"
      ]
     },
     "execution_count": 337,
     "metadata": {},
     "output_type": "execute_result"
    },
    {
     "data": {
      "image/png": "[encoded data removed]",
      "text/plain": [
       "<Figure size 2000x1000 with 1 Axes>"
      ]
     },
     "metadata": {},
     "output_type": "display_data"
    }
   ],
   "source": [
    "plt.figure(figsize = (20, 10))\n",
    "sns.countplot(x='Age',hue='Alcoholuse',data=df)\n",
    "plt.xlim(0,10)"
   ]
  },
  {
   "cell_type": "markdown",
   "metadata": {},
   "source": [
    "# Prediction Based On Classification Techniques"
   ]
  },
  {
   "cell_type": "markdown",
   "metadata": {},
   "source": [
    "# Logistic Regression"
   ]
  },
  {
   "cell_type": "code",
   "execution_count": 338,
   "metadata": {},
   "outputs": [],
   "source": [
    "from sklearn.model_selection import train_test_split"
   ]
  },
  {
   "cell_type": "code",
   "execution_count": 339,
   "metadata": {},
   "outputs": [],
   "source": [
    "X_train, X_test, y_train, y_test = train_test_split(X, y, test_size=0.2, random_state=1)"
   ]
  },
  {
   "cell_type": "code",
   "execution_count": 340,
   "metadata": {},
   "outputs": [],
   "source": [
    "from sklearn.metrics import jaccard_score\n",
    "from sklearn.metrics import f1_score\n",
    "from sklearn.metrics import log_loss\n",
    "from sklearn.model_selection import cross_val_score"
   ]
  },
  {
   "cell_type": "code",
   "execution_count": null,
   "metadata": {},
   "outputs": [],
   "source": []
  },
  {
   "cell_type": "code",
   "execution_count": 341,
   "metadata": {},
   "outputs": [],
   "source": [
    "from sklearn.linear_model import LogisticRegression"
   ]
  },
  {
   "cell_type": "code",
   "execution_count": 342,
   "metadata": {},
   "outputs": [],
   "source": [
    "model=LogisticRegression()"
   ]
  },
  {
   "cell_type": "code",
   "execution_count": 343,
   "metadata": {},
   "outputs": [
    {
     "name": "stderr",
     "output_type": "stream",
     "text": [
      "/Library/Frameworks/Python.framework/Versions/3.9/lib/python3.9/site-packages/sklearn/linear_model/_logistic.py:458: ConvergenceWarning: lbfgs failed to converge (status=1):\n",
      "STOP: TOTAL NO. of ITERATIONS REACHED LIMIT.\n",
      "\n",
      "Increase the number of iterations (max_iter) or scale the data as shown in:\n",
      "    https://scikit-learn.org/stable/modules/preprocessing.html\n",
      "Please also refer to the documentation for alternative solver options:\n",
      "    https://scikit-learn.org/stable/modules/linear_model.html#logistic-regression\n",
      "  n_iter_i = _check_optimize_result(\n"
     ]
    },
    {
     "data": {
      "text/html": [
       "<style>#sk-container-id-20 {color: black;background-color: white;}#sk-container-id-20 pre{padding: 0;}#sk-container-id-20 div.sk-toggleable {background-color: white;}#sk-container-id-20 label.sk-toggleable__label {cursor: pointer;display: block;width: 100%;margin-bottom: 0;padding: 0.3em;box-sizing: border-box;text-align: center;}#sk-container-id-20 label.sk-toggleable__label-arrow:before {content: \"▸\";float: left;margin-right: 0.25em;color: #696969;}#sk-container-id-20 label.sk-toggleable__label-arrow:hover:before {color: black;}#sk-container-id-20 div.sk-estimator:hover label.sk-toggleable__label-arrow:before {color: black;}#sk-container-id-20 div.sk-toggleable__content {max-height: 0;max-width: 0;overflow: hidden;text-align: left;background-color: #f0f8ff;}#sk-container-id-20 div.sk-toggleable__content pre {margin: 0.2em;color: black;border-radius: 0.25em;background-color: #f0f8ff;}#sk-container-id-20 input.sk-toggleable__control:checked~div.sk-toggleable__content {max-height: 200px;max-width: 100%;overflow: auto;}#sk-container-id-20 input.sk-toggleable__control:checked~label.sk-toggleable__label-arrow:before {content: \"▾\";}#sk-container-id-20 div.sk-estimator input.sk-toggleable__control:checked~label.sk-toggleable__label {background-color: #d4ebff;}#sk-container-id-20 div.sk-label input.sk-toggleable__control:checked~label.sk-toggleable__label {background-color: #d4ebff;}#sk-container-id-20 input.sk-hidden--visually {border: 0;clip: rect(1px 1px 1px 1px);clip: rect(1px, 1px, 1px, 1px);height: 1px;margin: -1px;overflow: hidden;padding: 0;position: absolute;width: 1px;}#sk-container-id-20 div.sk-estimator {font-family: monospace;background-color: #f0f8ff;border: 1px dotted black;border-radius: 0.25em;box-sizing: border-box;margin-bottom: 0.5em;}#sk-container-id-20 div.sk-estimator:hover {background-color: #d4ebff;}#sk-container-id-20 div.sk-parallel-item::after {content: \"\";width: 100%;border-bottom: 1px solid gray;flex-grow: 1;}#sk-container-id-20 div.sk-label:hover label.sk-toggleable__label {background-color: #d4ebff;}#sk-container-id-20 div.sk-serial::before {content: \"\";position: absolute;border-left: 1px solid gray;box-sizing: border-box;top: 0;bottom: 0;left: 50%;z-index: 0;}#sk-container-id-20 div.sk-serial {display: flex;flex-direction: column;align-items: center;background-color: white;padding-right: 0.2em;padding-left: 0.2em;position: relative;}#sk-container-id-20 div.sk-item {position: relative;z-index: 1;}#sk-container-id-20 div.sk-parallel {display: flex;align-items: stretch;justify-content: center;background-color: white;position: relative;}#sk-container-id-20 div.sk-item::before, #sk-container-id-20 div.sk-parallel-item::before {content: \"\";position: absolute;border-left: 1px solid gray;box-sizing: border-box;top: 0;bottom: 0;left: 50%;z-index: -1;}#sk-container-id-20 div.sk-parallel-item {display: flex;flex-direction: column;z-index: 1;position: relative;background-color: white;}#sk-container-id-20 div.sk-parallel-item:first-child::after {align-self: flex-end;width: 50%;}#sk-container-id-20 div.sk-parallel-item:last-child::after {align-self: flex-start;width: 50%;}#sk-container-id-20 div.sk-parallel-item:only-child::after {width: 0;}#sk-container-id-20 div.sk-dashed-wrapped {border: 1px dashed gray;margin: 0 0.4em 0.5em 0.4em;box-sizing: border-box;padding-bottom: 0.4em;background-color: white;}#sk-container-id-20 div.sk-label label {font-family: monospace;font-weight: bold;display: inline-block;line-height: 1.2em;}#sk-container-id-20 div.sk-label-container {text-align: center;}#sk-container-id-20 div.sk-container {/* jupyter's `normalize.less` sets `[hidden] { display: none; }` but bootstrap.min.css set `[hidden] { display: none !important; }` so we also need the `!important` here to be able to override the default hidden behavior on the sphinx rendered scikit-learn.org. See: https://github.com/scikit-learn/scikit-learn/issues/21755 */display: inline-block !important;position: relative;}#sk-container-id-20 div.sk-text-repr-fallback {display: none;}</style><div id=\"sk-container-id-20\" class=\"sk-top-container\"><div class=\"sk-text-repr-fallback\"><pre>LogisticRegression()</pre><b>In a Jupyter environment, please rerun this cell to show the HTML representation or trust the notebook. <br />On GitHub, the HTML representation is unable to render, please try loading this page with nbviewer.org.</b></div><div class=\"sk-container\" hidden><div class=\"sk-item\"><div class=\"sk-estimator sk-toggleable\"><input class=\"sk-toggleable__control sk-hidden--visually\" id=\"sk-estimator-id-20\" type=\"checkbox\" checked><label for=\"sk-estimator-id-20\" class=\"sk-toggleable__label sk-toggleable__label-arrow\">LogisticRegression</label><div class=\"sk-toggleable__content\"><pre>LogisticRegression()</pre></div></div></div></div></div>"
      ],
      "text/plain": [
       "LogisticRegression()"
      ]
     },
     "execution_count": 343,
     "metadata": {},
     "output_type": "execute_result"
    }
   ],
   "source": [
    "model.fit(X_train,y_train)"
   ]
  },
  {
   "cell_type": "code",
   "execution_count": 344,
   "metadata": {},
   "outputs": [],
   "source": [
    "y_pred=model.predict(X_test)"
   ]
  },
  {
   "cell_type": "code",
   "execution_count": 345,
   "metadata": {},
   "outputs": [],
   "source": [
    "from sklearn.metrics import confusion_matrix"
   ]
  },
  {
   "cell_type": "code",
   "execution_count": 346,
   "metadata": {},
   "outputs": [
    {
     "data": {
      "text/plain": [
       "array([[ 62,   0],\n",
       "       [  5, 133]])"
      ]
     },
     "execution_count": 346,
     "metadata": {},
     "output_type": "execute_result"
    }
   ],
   "source": [
    "confusion_matrix(y_test,y_pred)"
   ]
  },
  {
   "cell_type": "code",
   "execution_count": 347,
   "metadata": {},
   "outputs": [],
   "source": [
    "from sklearn.metrics import accuracy_score"
   ]
  },
  {
   "cell_type": "code",
   "execution_count": 348,
   "metadata": {},
   "outputs": [
    {
     "data": {
      "text/plain": [
       "0.975"
      ]
     },
     "execution_count": 348,
     "metadata": {},
     "output_type": "execute_result"
    }
   ],
   "source": [
    "accuracy_score(y_test,y_pred)"
   ]
  },
  {
   "cell_type": "code",
   "execution_count": 351,
   "metadata": {},
   "outputs": [
    {
     "data": {
      "text/plain": [
       "array([1, 0, 0, 0, 1, 0, 0, 0, 1, 0, 0, 1, 1, 1, 1, 1, 1, 0, 0, 0, 0, 1,\n",
       "       0, 0, 1, 0, 1, 1, 0, 0, 1, 0, 1, 0, 1, 0, 1, 0, 1, 0, 1, 1, 1, 1,\n",
       "       1, 1, 1, 0, 1, 1, 0, 0, 1, 1, 0, 1, 1, 1, 0, 1, 1, 1, 0, 1, 0, 1,\n",
       "       1, 0, 1, 1, 0, 0, 1, 1, 0, 1, 1, 0, 1, 1, 0, 1, 1, 1, 1, 1, 1, 1,\n",
       "       1, 1, 1, 1, 1, 1, 1, 1, 1, 0, 0, 0, 0, 1, 1, 0, 1, 0, 0, 1, 0, 0,\n",
       "       1, 0, 0, 0, 1, 1, 0, 1, 1, 1, 1, 1, 1, 1, 1, 1, 1, 1, 1, 1, 1, 1,\n",
       "       1, 1, 1, 1, 1, 1, 1, 1, 1, 0, 0, 1, 1, 1, 1, 1, 1, 1, 1, 1, 0, 1,\n",
       "       0, 1, 0, 1, 1, 0, 0, 1, 0, 1, 1, 1, 1, 0, 1, 1, 1, 1, 0, 1, 1, 0,\n",
       "       1, 1, 0, 1, 1, 0, 0, 0, 1, 1, 1, 0, 1, 1, 0, 0, 1, 1, 1, 1, 1, 1,\n",
       "       0, 1])"
      ]
     },
     "execution_count": 351,
     "metadata": {},
     "output_type": "execute_result"
    }
   ],
   "source": [
    "y_pred"
   ]
  },
  {
   "cell_type": "code",
   "execution_count": 350,
   "metadata": {},
   "outputs": [
    {
     "data": {
      "text/plain": [
       "array([[5.13012752e-02, 9.48698725e-01],\n",
       "       [9.99137277e-01, 8.62722818e-04],\n",
       "       [5.90698007e-01, 4.09301993e-01],\n",
       "       [9.99517674e-01, 4.82325784e-04],\n",
       "       [2.43715214e-03, 9.97562848e-01],\n",
       "       [9.99137277e-01, 8.62722818e-04],\n",
       "       [9.94225509e-01, 5.77449078e-03],\n",
       "       [9.22068579e-01, 7.79314212e-02],\n",
       "       [6.21724894e-15, 1.00000000e+00],\n",
       "       [9.99903377e-01, 9.66232159e-05],\n",
       "       [9.99926744e-01, 7.32563813e-05],\n",
       "       [1.90271405e-05, 9.99980973e-01],\n",
       "       [5.30323779e-02, 9.46967622e-01],\n",
       "       [2.28169927e-09, 9.99999998e-01],\n",
       "       [7.87048809e-05, 9.99921295e-01],\n",
       "       [1.97644539e-03, 9.98023555e-01],\n",
       "       [7.95982741e-07, 9.99999204e-01],\n",
       "       [8.94810853e-01, 1.05189147e-01],\n",
       "       [9.99976617e-01, 2.33826183e-05],\n",
       "       [9.99684609e-01, 3.15390723e-04],\n",
       "       [9.67406415e-01, 3.25935846e-02],\n",
       "       [5.07249243e-09, 9.99999995e-01],\n",
       "       [9.99945586e-01, 5.44143567e-05],\n",
       "       [9.49467921e-01, 5.05320787e-02],\n",
       "       [1.76203739e-03, 9.98237963e-01],\n",
       "       [5.90698007e-01, 4.09301993e-01],\n",
       "       [3.99680289e-15, 1.00000000e+00],\n",
       "       [2.76142545e-06, 9.99997239e-01],\n",
       "       [9.91106802e-01, 8.89319769e-03],\n",
       "       [9.99137277e-01, 8.62722818e-04],\n",
       "       [1.97644539e-03, 9.98023555e-01],\n",
       "       [9.99517674e-01, 4.82325784e-04],\n",
       "       [7.22574686e-07, 9.99999277e-01],\n",
       "       [9.99964996e-01, 3.50041954e-05],\n",
       "       [2.97252338e-03, 9.97027477e-01],\n",
       "       [9.99517674e-01, 4.82325784e-04],\n",
       "       [7.22574686e-07, 9.99999277e-01],\n",
       "       [9.53468133e-01, 4.65318669e-02],\n",
       "       [5.38628164e-09, 9.99999995e-01],\n",
       "       [9.39031262e-01, 6.09687380e-02],\n",
       "       [1.82989486e-05, 9.99981701e-01],\n",
       "       [3.01732904e-03, 9.96982671e-01],\n",
       "       [3.01732904e-03, 9.96982671e-01],\n",
       "       [7.94961196e-05, 9.99920504e-01],\n",
       "       [5.41328369e-07, 9.99999459e-01],\n",
       "       [1.97644539e-03, 9.98023555e-01],\n",
       "       [1.82471053e-03, 9.98175289e-01],\n",
       "       [9.98681024e-01, 1.31897636e-03],\n",
       "       [8.62478789e-02, 9.13752121e-01],\n",
       "       [1.13464793e-13, 1.00000000e+00],\n",
       "       [9.99282180e-01, 7.17819957e-04],\n",
       "       [9.91106802e-01, 8.89319769e-03],\n",
       "       [5.34836768e-04, 9.99465163e-01],\n",
       "       [1.82281571e-01, 8.17718429e-01],\n",
       "       [6.53776707e-01, 3.46223293e-01],\n",
       "       [7.10542736e-15, 1.00000000e+00],\n",
       "       [3.99680289e-15, 1.00000000e+00],\n",
       "       [7.10542736e-15, 1.00000000e+00],\n",
       "       [9.99998973e-01, 1.02660119e-06],\n",
       "       [1.82281571e-01, 8.17718429e-01],\n",
       "       [4.96237185e-02, 9.50376281e-01],\n",
       "       [3.74845832e-02, 9.62515417e-01],\n",
       "       [9.99956926e-01, 4.30736958e-05],\n",
       "       [5.99520433e-15, 1.00000000e+00],\n",
       "       [9.99976617e-01, 2.33826183e-05],\n",
       "       [6.21724894e-15, 1.00000000e+00],\n",
       "       [2.43715214e-03, 9.97562848e-01],\n",
       "       [8.29584260e-01, 1.70415740e-01],\n",
       "       [5.34836768e-04, 9.99465163e-01],\n",
       "       [1.90460204e-05, 9.99980954e-01],\n",
       "       [9.99945586e-01, 5.44143567e-05],\n",
       "       [6.53776707e-01, 3.46223293e-01],\n",
       "       [1.82281571e-01, 8.17718429e-01],\n",
       "       [7.85774377e-04, 9.99214226e-01],\n",
       "       [9.99984625e-01, 1.53751933e-05],\n",
       "       [1.25292177e-04, 9.99874708e-01],\n",
       "       [5.30323779e-02, 9.46967622e-01],\n",
       "       [9.99984625e-01, 1.53751933e-05],\n",
       "       [2.62669920e-06, 9.99997373e-01],\n",
       "       [7.87048809e-05, 9.99921295e-01],\n",
       "       [9.22068579e-01, 7.79314212e-02],\n",
       "       [7.85774377e-04, 9.99214226e-01],\n",
       "       [2.81652921e-03, 9.97183471e-01],\n",
       "       [2.81652921e-03, 9.97183471e-01],\n",
       "       [5.13012752e-02, 9.48698725e-01],\n",
       "       [7.95982741e-07, 9.99999204e-01],\n",
       "       [1.89855968e-01, 8.10144032e-01],\n",
       "       [8.77099482e-04, 9.99122901e-01],\n",
       "       [6.21724894e-15, 1.00000000e+00],\n",
       "       [7.87048809e-05, 9.99921295e-01],\n",
       "       [2.67978243e-06, 9.99997320e-01],\n",
       "       [7.22574686e-07, 9.99999277e-01],\n",
       "       [8.26044415e-04, 9.99173956e-01],\n",
       "       [1.03788105e-03, 9.98962119e-01],\n",
       "       [2.82790768e-03, 9.97172092e-01],\n",
       "       [4.22373614e-06, 9.99995776e-01],\n",
       "       [4.37008434e-05, 9.99956299e-01],\n",
       "       [7.87176155e-01, 2.12823845e-01],\n",
       "       [9.67406415e-01, 3.25935846e-02],\n",
       "       [9.99945586e-01, 5.44143567e-05],\n",
       "       [9.99903377e-01, 9.66232159e-05],\n",
       "       [1.90460204e-05, 9.99980954e-01],\n",
       "       [3.57471468e-07, 9.99999643e-01],\n",
       "       [9.99976617e-01, 2.33826183e-05],\n",
       "       [1.92375061e-05, 9.99980762e-01],\n",
       "       [9.99282180e-01, 7.17819957e-04],\n",
       "       [9.99976617e-01, 2.33826183e-05],\n",
       "       [5.41328369e-07, 9.99999459e-01],\n",
       "       [9.67406415e-01, 3.25935846e-02],\n",
       "       [9.86170969e-01, 1.38290312e-02],\n",
       "       [5.13012752e-02, 9.48698725e-01],\n",
       "       [6.88223311e-01, 3.11776689e-01],\n",
       "       [9.99956926e-01, 4.30736958e-05],\n",
       "       [9.09661843e-01, 9.03381566e-02],\n",
       "       [2.81652921e-03, 9.97183471e-01],\n",
       "       [1.72571332e-03, 9.98274287e-01],\n",
       "       [9.99976617e-01, 2.33826183e-05],\n",
       "       [4.22373614e-06, 9.99995776e-01],\n",
       "       [8.62478789e-02, 9.13752121e-01],\n",
       "       [1.90460204e-05, 9.99980954e-01],\n",
       "       [1.03046785e-06, 9.99998970e-01],\n",
       "       [5.38628164e-09, 9.99999995e-01],\n",
       "       [4.37008434e-05, 9.99956299e-01],\n",
       "       [7.87048809e-05, 9.99921295e-01],\n",
       "       [1.27994283e-06, 9.99998720e-01],\n",
       "       [1.90460204e-05, 9.99980954e-01],\n",
       "       [1.97644539e-03, 9.98023555e-01],\n",
       "       [5.30323779e-02, 9.46967622e-01],\n",
       "       [7.60404357e-02, 9.23959564e-01],\n",
       "       [7.94961196e-05, 9.99920504e-01],\n",
       "       [1.13464793e-13, 1.00000000e+00],\n",
       "       [7.94961196e-05, 9.99920504e-01],\n",
       "       [7.95982741e-07, 9.99999204e-01],\n",
       "       [4.22373614e-06, 9.99995776e-01],\n",
       "       [2.62669920e-06, 9.99997373e-01],\n",
       "       [7.87048809e-05, 9.99921295e-01],\n",
       "       [1.03788105e-03, 9.98962119e-01],\n",
       "       [5.30323779e-02, 9.46967622e-01],\n",
       "       [3.01732904e-03, 9.96982671e-01],\n",
       "       [8.84982395e-03, 9.91150176e-01],\n",
       "       [8.26044415e-04, 9.99173956e-01],\n",
       "       [9.22068579e-01, 7.79314212e-02],\n",
       "       [9.99964996e-01, 3.50041954e-05],\n",
       "       [2.81652921e-03, 9.97183471e-01],\n",
       "       [2.29147461e-05, 9.99977085e-01],\n",
       "       [1.25292177e-04, 9.99874708e-01],\n",
       "       [8.77099482e-04, 9.99122901e-01],\n",
       "       [5.07249243e-09, 9.99999995e-01],\n",
       "       [2.29147461e-05, 9.99977085e-01],\n",
       "       [3.99680289e-15, 1.00000000e+00],\n",
       "       [3.02158406e-06, 9.99996978e-01],\n",
       "       [1.81406670e-03, 9.98185933e-01],\n",
       "       [5.90698007e-01, 4.09301993e-01],\n",
       "       [7.94961196e-05, 9.99920504e-01],\n",
       "       [9.79001561e-01, 2.09984394e-02],\n",
       "       [3.02158406e-06, 9.99996978e-01],\n",
       "       [8.29584260e-01, 1.70415740e-01],\n",
       "       [6.21724894e-15, 1.00000000e+00],\n",
       "       [5.34836768e-04, 9.99465163e-01],\n",
       "       [9.22068579e-01, 7.79314212e-02],\n",
       "       [9.99846270e-01, 1.53730474e-04],\n",
       "       [5.41328369e-07, 9.99999459e-01],\n",
       "       [9.67406415e-01, 3.25935846e-02],\n",
       "       [1.97644539e-03, 9.98023555e-01],\n",
       "       [1.03788105e-03, 9.98962119e-01],\n",
       "       [1.01005550e-06, 9.99998990e-01],\n",
       "       [1.97644539e-03, 9.98023555e-01],\n",
       "       [9.99998973e-01, 1.02660119e-06],\n",
       "       [2.43715214e-03, 9.97562848e-01],\n",
       "       [5.34836768e-04, 9.99465163e-01],\n",
       "       [2.81652921e-03, 9.97183471e-01],\n",
       "       [2.82790768e-03, 9.97172092e-01],\n",
       "       [9.94225509e-01, 5.77449078e-03],\n",
       "       [1.66786442e-03, 9.98332136e-01],\n",
       "       [3.57471468e-07, 9.99999643e-01],\n",
       "       [9.67406415e-01, 3.25935846e-02],\n",
       "       [1.19777602e-04, 9.99880222e-01],\n",
       "       [7.94961196e-05, 9.99920504e-01],\n",
       "       [8.75580721e-01, 1.24419279e-01],\n",
       "       [2.29147461e-05, 9.99977085e-01],\n",
       "       [2.85714511e-05, 9.99971429e-01],\n",
       "       [9.99964996e-01, 3.50041954e-05],\n",
       "       [9.22068579e-01, 7.79314212e-02],\n",
       "       [9.22068579e-01, 7.79314212e-02],\n",
       "       [1.13464793e-13, 1.00000000e+00],\n",
       "       [2.76142545e-06, 9.99997239e-01],\n",
       "       [5.38628164e-09, 9.99999995e-01],\n",
       "       [6.88223311e-01, 3.11776689e-01],\n",
       "       [1.26423315e-02, 9.87357668e-01],\n",
       "       [7.97644942e-04, 9.99202355e-01],\n",
       "       [9.22068579e-01, 7.79314212e-02],\n",
       "       [9.99903377e-01, 9.66232159e-05],\n",
       "       [7.10542736e-15, 1.00000000e+00],\n",
       "       [6.60360822e-07, 9.99999340e-01],\n",
       "       [2.59798230e-03, 9.97402018e-01],\n",
       "       [1.04805054e-13, 1.00000000e+00],\n",
       "       [1.04805054e-13, 1.00000000e+00],\n",
       "       [6.21724894e-15, 1.00000000e+00],\n",
       "       [9.99999969e-01, 3.09552696e-08],\n",
       "       [6.21724894e-15, 1.00000000e+00]])"
      ]
     },
     "execution_count": 350,
     "metadata": {},
     "output_type": "execute_result"
    }
   ],
   "source": [
    "model.predict_proba(X_test)"
   ]
  },
  {
   "cell_type": "code",
   "execution_count": 352,
   "metadata": {},
   "outputs": [],
   "source": [
    "testScores={}"
   ]
  },
  {
   "cell_type": "code",
   "execution_count": 353,
   "metadata": {},
   "outputs": [],
   "source": [
    "testScores['LogReg-jaccard']=jaccard_score(y_test, y_pred)\n",
    "testScores['LogReg-f1-score']=f1_score(y_test, y_pred, average='weighted')  \n",
    "testScores['LogReg-logLoss']=log_loss(y_test, y_proba)"
   ]
  },
  {
   "cell_type": "code",
   "execution_count": null,
   "metadata": {},
   "outputs": [],
   "source": [
    "testScores"
   ]
  },
  {
   "cell_type": "markdown",
   "metadata": {},
   "source": [
    "# KNN"
   ]
  },
  {
   "cell_type": "code",
   "execution_count": 354,
   "metadata": {},
   "outputs": [
    {
     "data": {
      "text/html": [
       "<style>#sk-container-id-21 {color: black;background-color: white;}#sk-container-id-21 pre{padding: 0;}#sk-container-id-21 div.sk-toggleable {background-color: white;}#sk-container-id-21 label.sk-toggleable__label {cursor: pointer;display: block;width: 100%;margin-bottom: 0;padding: 0.3em;box-sizing: border-box;text-align: center;}#sk-container-id-21 label.sk-toggleable__label-arrow:before {content: \"▸\";float: left;margin-right: 0.25em;color: #696969;}#sk-container-id-21 label.sk-toggleable__label-arrow:hover:before {color: black;}#sk-container-id-21 div.sk-estimator:hover label.sk-toggleable__label-arrow:before {color: black;}#sk-container-id-21 div.sk-toggleable__content {max-height: 0;max-width: 0;overflow: hidden;text-align: left;background-color: #f0f8ff;}#sk-container-id-21 div.sk-toggleable__content pre {margin: 0.2em;color: black;border-radius: 0.25em;background-color: #f0f8ff;}#sk-container-id-21 input.sk-toggleable__control:checked~div.sk-toggleable__content {max-height: 200px;max-width: 100%;overflow: auto;}#sk-container-id-21 input.sk-toggleable__control:checked~label.sk-toggleable__label-arrow:before {content: \"▾\";}#sk-container-id-21 div.sk-estimator input.sk-toggleable__control:checked~label.sk-toggleable__label {background-color: #d4ebff;}#sk-container-id-21 div.sk-label input.sk-toggleable__control:checked~label.sk-toggleable__label {background-color: #d4ebff;}#sk-container-id-21 input.sk-hidden--visually {border: 0;clip: rect(1px 1px 1px 1px);clip: rect(1px, 1px, 1px, 1px);height: 1px;margin: -1px;overflow: hidden;padding: 0;position: absolute;width: 1px;}#sk-container-id-21 div.sk-estimator {font-family: monospace;background-color: #f0f8ff;border: 1px dotted black;border-radius: 0.25em;box-sizing: border-box;margin-bottom: 0.5em;}#sk-container-id-21 div.sk-estimator:hover {background-color: #d4ebff;}#sk-container-id-21 div.sk-parallel-item::after {content: \"\";width: 100%;border-bottom: 1px solid gray;flex-grow: 1;}#sk-container-id-21 div.sk-label:hover label.sk-toggleable__label {background-color: #d4ebff;}#sk-container-id-21 div.sk-serial::before {content: \"\";position: absolute;border-left: 1px solid gray;box-sizing: border-box;top: 0;bottom: 0;left: 50%;z-index: 0;}#sk-container-id-21 div.sk-serial {display: flex;flex-direction: column;align-items: center;background-color: white;padding-right: 0.2em;padding-left: 0.2em;position: relative;}#sk-container-id-21 div.sk-item {position: relative;z-index: 1;}#sk-container-id-21 div.sk-parallel {display: flex;align-items: stretch;justify-content: center;background-color: white;position: relative;}#sk-container-id-21 div.sk-item::before, #sk-container-id-21 div.sk-parallel-item::before {content: \"\";position: absolute;border-left: 1px solid gray;box-sizing: border-box;top: 0;bottom: 0;left: 50%;z-index: -1;}#sk-container-id-21 div.sk-parallel-item {display: flex;flex-direction: column;z-index: 1;position: relative;background-color: white;}#sk-container-id-21 div.sk-parallel-item:first-child::after {align-self: flex-end;width: 50%;}#sk-container-id-21 div.sk-parallel-item:last-child::after {align-self: flex-start;width: 50%;}#sk-container-id-21 div.sk-parallel-item:only-child::after {width: 0;}#sk-container-id-21 div.sk-dashed-wrapped {border: 1px dashed gray;margin: 0 0.4em 0.5em 0.4em;box-sizing: border-box;padding-bottom: 0.4em;background-color: white;}#sk-container-id-21 div.sk-label label {font-family: monospace;font-weight: bold;display: inline-block;line-height: 1.2em;}#sk-container-id-21 div.sk-label-container {text-align: center;}#sk-container-id-21 div.sk-container {/* jupyter's `normalize.less` sets `[hidden] { display: none; }` but bootstrap.min.css set `[hidden] { display: none !important; }` so we also need the `!important` here to be able to override the default hidden behavior on the sphinx rendered scikit-learn.org. See: https://github.com/scikit-learn/scikit-learn/issues/21755 */display: inline-block !important;position: relative;}#sk-container-id-21 div.sk-text-repr-fallback {display: none;}</style><div id=\"sk-container-id-21\" class=\"sk-top-container\"><div class=\"sk-text-repr-fallback\"><pre>KNeighborsClassifier(n_neighbors=3)</pre><b>In a Jupyter environment, please rerun this cell to show the HTML representation or trust the notebook. <br />On GitHub, the HTML representation is unable to render, please try loading this page with nbviewer.org.</b></div><div class=\"sk-container\" hidden><div class=\"sk-item\"><div class=\"sk-estimator sk-toggleable\"><input class=\"sk-toggleable__control sk-hidden--visually\" id=\"sk-estimator-id-21\" type=\"checkbox\" checked><label for=\"sk-estimator-id-21\" class=\"sk-toggleable__label sk-toggleable__label-arrow\">KNeighborsClassifier</label><div class=\"sk-toggleable__content\"><pre>KNeighborsClassifier(n_neighbors=3)</pre></div></div></div></div></div>"
      ],
      "text/plain": [
       "KNeighborsClassifier(n_neighbors=3)"
      ]
     },
     "execution_count": 354,
     "metadata": {},
     "output_type": "execute_result"
    }
   ],
   "source": [
    "# Modeling\n",
    "from sklearn.neighbors import KNeighborsClassifier\n",
    "k = 3\n",
    "#Train Model and Predict  \n",
    "kNN_model = KNeighborsClassifier(n_neighbors=k).fit(X_train,y_train)\n",
    "kNN_model"
   ]
  },
  {
   "cell_type": "code",
   "execution_count": 355,
   "metadata": {},
   "outputs": [
    {
     "data": {
      "text/plain": [
       "array([1, 0, 1, 0, 1])"
      ]
     },
     "execution_count": 355,
     "metadata": {},
     "output_type": "execute_result"
    }
   ],
   "source": [
    "# just for sanity chaeck\n",
    "ypred = kNN_model.predict(X_test)\n",
    "ypred[0:5]"
   ]
  },
  {
   "cell_type": "code",
   "execution_count": 356,
   "metadata": {},
   "outputs": [
    {
     "name": "stdout",
     "output_type": "stream",
     "text": [
      "best k is 3 Cross validation score is 0.9950000000000001\n"
     ]
    }
   ],
   "source": [
    "from sklearn.neighbors import KNeighborsClassifier\n",
    "from sklearn.model_selection import cross_val_score\n",
    "bestscore=0\n",
    "list=[]\n",
    "for k in range(3,12):\n",
    "    clf_knn=KNeighborsClassifier(n_neighbors=k)\n",
    "    scores=cross_val_score(clf_knn,X,y,cv=10)\n",
    "    score=scores.mean()\n",
    "    list.append(score)\n",
    "    if score>bestscore:\n",
    "        bestscore=score\n",
    "        bestk=k\n",
    "print(\"best k is\",bestk,\"Cross validation score is\",bestscore)"
   ]
  },
  {
   "cell_type": "code",
   "execution_count": 357,
   "metadata": {},
   "outputs": [
    {
     "data": {
      "text/html": [
       "<style>#sk-container-id-22 {color: black;background-color: white;}#sk-container-id-22 pre{padding: 0;}#sk-container-id-22 div.sk-toggleable {background-color: white;}#sk-container-id-22 label.sk-toggleable__label {cursor: pointer;display: block;width: 100%;margin-bottom: 0;padding: 0.3em;box-sizing: border-box;text-align: center;}#sk-container-id-22 label.sk-toggleable__label-arrow:before {content: \"▸\";float: left;margin-right: 0.25em;color: #696969;}#sk-container-id-22 label.sk-toggleable__label-arrow:hover:before {color: black;}#sk-container-id-22 div.sk-estimator:hover label.sk-toggleable__label-arrow:before {color: black;}#sk-container-id-22 div.sk-toggleable__content {max-height: 0;max-width: 0;overflow: hidden;text-align: left;background-color: #f0f8ff;}#sk-container-id-22 div.sk-toggleable__content pre {margin: 0.2em;color: black;border-radius: 0.25em;background-color: #f0f8ff;}#sk-container-id-22 input.sk-toggleable__control:checked~div.sk-toggleable__content {max-height: 200px;max-width: 100%;overflow: auto;}#sk-container-id-22 input.sk-toggleable__control:checked~label.sk-toggleable__label-arrow:before {content: \"▾\";}#sk-container-id-22 div.sk-estimator input.sk-toggleable__control:checked~label.sk-toggleable__label {background-color: #d4ebff;}#sk-container-id-22 div.sk-label input.sk-toggleable__control:checked~label.sk-toggleable__label {background-color: #d4ebff;}#sk-container-id-22 input.sk-hidden--visually {border: 0;clip: rect(1px 1px 1px 1px);clip: rect(1px, 1px, 1px, 1px);height: 1px;margin: -1px;overflow: hidden;padding: 0;position: absolute;width: 1px;}#sk-container-id-22 div.sk-estimator {font-family: monospace;background-color: #f0f8ff;border: 1px dotted black;border-radius: 0.25em;box-sizing: border-box;margin-bottom: 0.5em;}#sk-container-id-22 div.sk-estimator:hover {background-color: #d4ebff;}#sk-container-id-22 div.sk-parallel-item::after {content: \"\";width: 100%;border-bottom: 1px solid gray;flex-grow: 1;}#sk-container-id-22 div.sk-label:hover label.sk-toggleable__label {background-color: #d4ebff;}#sk-container-id-22 div.sk-serial::before {content: \"\";position: absolute;border-left: 1px solid gray;box-sizing: border-box;top: 0;bottom: 0;left: 50%;z-index: 0;}#sk-container-id-22 div.sk-serial {display: flex;flex-direction: column;align-items: center;background-color: white;padding-right: 0.2em;padding-left: 0.2em;position: relative;}#sk-container-id-22 div.sk-item {position: relative;z-index: 1;}#sk-container-id-22 div.sk-parallel {display: flex;align-items: stretch;justify-content: center;background-color: white;position: relative;}#sk-container-id-22 div.sk-item::before, #sk-container-id-22 div.sk-parallel-item::before {content: \"\";position: absolute;border-left: 1px solid gray;box-sizing: border-box;top: 0;bottom: 0;left: 50%;z-index: -1;}#sk-container-id-22 div.sk-parallel-item {display: flex;flex-direction: column;z-index: 1;position: relative;background-color: white;}#sk-container-id-22 div.sk-parallel-item:first-child::after {align-self: flex-end;width: 50%;}#sk-container-id-22 div.sk-parallel-item:last-child::after {align-self: flex-start;width: 50%;}#sk-container-id-22 div.sk-parallel-item:only-child::after {width: 0;}#sk-container-id-22 div.sk-dashed-wrapped {border: 1px dashed gray;margin: 0 0.4em 0.5em 0.4em;box-sizing: border-box;padding-bottom: 0.4em;background-color: white;}#sk-container-id-22 div.sk-label label {font-family: monospace;font-weight: bold;display: inline-block;line-height: 1.2em;}#sk-container-id-22 div.sk-label-container {text-align: center;}#sk-container-id-22 div.sk-container {/* jupyter's `normalize.less` sets `[hidden] { display: none; }` but bootstrap.min.css set `[hidden] { display: none !important; }` so we also need the `!important` here to be able to override the default hidden behavior on the sphinx rendered scikit-learn.org. See: https://github.com/scikit-learn/scikit-learn/issues/21755 */display: inline-block !important;position: relative;}#sk-container-id-22 div.sk-text-repr-fallback {display: none;}</style><div id=\"sk-container-id-22\" class=\"sk-top-container\"><div class=\"sk-text-repr-fallback\"><pre>KNeighborsClassifier(n_neighbors=11)</pre><b>In a Jupyter environment, please rerun this cell to show the HTML representation or trust the notebook. <br />On GitHub, the HTML representation is unable to render, please try loading this page with nbviewer.org.</b></div><div class=\"sk-container\" hidden><div class=\"sk-item\"><div class=\"sk-estimator sk-toggleable\"><input class=\"sk-toggleable__control sk-hidden--visually\" id=\"sk-estimator-id-22\" type=\"checkbox\" checked><label for=\"sk-estimator-id-22\" class=\"sk-toggleable__label sk-toggleable__label-arrow\">KNeighborsClassifier</label><div class=\"sk-toggleable__content\"><pre>KNeighborsClassifier(n_neighbors=11)</pre></div></div></div></div></div>"
      ],
      "text/plain": [
       "KNeighborsClassifier(n_neighbors=11)"
      ]
     },
     "execution_count": 357,
     "metadata": {},
     "output_type": "execute_result"
    }
   ],
   "source": [
    "from sklearn.neighbors import KNeighborsClassifier\n",
    "k = 11\n",
    "kNN_model = KNeighborsClassifier(n_neighbors=k).fit(X_train,y_train)\n",
    "kNN_model"
   ]
  },
  {
   "cell_type": "code",
   "execution_count": null,
   "metadata": {},
   "outputs": [],
   "source": []
  },
  {
   "cell_type": "code",
   "execution_count": 358,
   "metadata": {},
   "outputs": [],
   "source": [
    "y_pred = kNN_model.predict(X_test)"
   ]
  },
  {
   "cell_type": "code",
   "execution_count": 359,
   "metadata": {},
   "outputs": [
    {
     "data": {
      "text/plain": [
       "0.94"
      ]
     },
     "execution_count": 359,
     "metadata": {},
     "output_type": "execute_result"
    }
   ],
   "source": [
    "accuracy_score(y_test,y_pred)"
   ]
  },
  {
   "cell_type": "code",
   "execution_count": 360,
   "metadata": {},
   "outputs": [],
   "source": [
    "testScores['KNN-jaccard']=jaccard_score(y_test, y_pred)\n",
    "testScores['KNN-f1-score']=f1_score(y_test, y_pred, average='weighted')"
   ]
  },
  {
   "cell_type": "code",
   "execution_count": 361,
   "metadata": {},
   "outputs": [
    {
     "data": {
      "text/plain": [
       "{'LogReg-jaccard': 0.9637681159420289,\n",
       " 'LogReg-f1-score': 0.975253868817758,\n",
       " 'LogReg-logLoss': 0.047083029656058456,\n",
       " 'KNN-jaccard': 0.9166666666666666,\n",
       " 'KNN-f1-score': 0.94}"
      ]
     },
     "execution_count": 361,
     "metadata": {},
     "output_type": "execute_result"
    }
   ],
   "source": [
    "testScores"
   ]
  },
  {
   "cell_type": "code",
   "execution_count": 367,
   "metadata": {},
   "outputs": [],
   "source": [
    "from sklearn.neighbors import KNeighborsClassifier"
   ]
  },
  {
   "cell_type": "code",
   "execution_count": 368,
   "metadata": {},
   "outputs": [],
   "source": [
    "knn_final=KNeighborsClassifier(n_neighbors=3)"
   ]
  },
  {
   "cell_type": "code",
   "execution_count": 369,
   "metadata": {},
   "outputs": [
    {
     "data": {
      "text/html": [
       "<style>#sk-container-id-23 {color: black;background-color: white;}#sk-container-id-23 pre{padding: 0;}#sk-container-id-23 div.sk-toggleable {background-color: white;}#sk-container-id-23 label.sk-toggleable__label {cursor: pointer;display: block;width: 100%;margin-bottom: 0;padding: 0.3em;box-sizing: border-box;text-align: center;}#sk-container-id-23 label.sk-toggleable__label-arrow:before {content: \"▸\";float: left;margin-right: 0.25em;color: #696969;}#sk-container-id-23 label.sk-toggleable__label-arrow:hover:before {color: black;}#sk-container-id-23 div.sk-estimator:hover label.sk-toggleable__label-arrow:before {color: black;}#sk-container-id-23 div.sk-toggleable__content {max-height: 0;max-width: 0;overflow: hidden;text-align: left;background-color: #f0f8ff;}#sk-container-id-23 div.sk-toggleable__content pre {margin: 0.2em;color: black;border-radius: 0.25em;background-color: #f0f8ff;}#sk-container-id-23 input.sk-toggleable__control:checked~div.sk-toggleable__content {max-height: 200px;max-width: 100%;overflow: auto;}#sk-container-id-23 input.sk-toggleable__control:checked~label.sk-toggleable__label-arrow:before {content: \"▾\";}#sk-container-id-23 div.sk-estimator input.sk-toggleable__control:checked~label.sk-toggleable__label {background-color: #d4ebff;}#sk-container-id-23 div.sk-label input.sk-toggleable__control:checked~label.sk-toggleable__label {background-color: #d4ebff;}#sk-container-id-23 input.sk-hidden--visually {border: 0;clip: rect(1px 1px 1px 1px);clip: rect(1px, 1px, 1px, 1px);height: 1px;margin: -1px;overflow: hidden;padding: 0;position: absolute;width: 1px;}#sk-container-id-23 div.sk-estimator {font-family: monospace;background-color: #f0f8ff;border: 1px dotted black;border-radius: 0.25em;box-sizing: border-box;margin-bottom: 0.5em;}#sk-container-id-23 div.sk-estimator:hover {background-color: #d4ebff;}#sk-container-id-23 div.sk-parallel-item::after {content: \"\";width: 100%;border-bottom: 1px solid gray;flex-grow: 1;}#sk-container-id-23 div.sk-label:hover label.sk-toggleable__label {background-color: #d4ebff;}#sk-container-id-23 div.sk-serial::before {content: \"\";position: absolute;border-left: 1px solid gray;box-sizing: border-box;top: 0;bottom: 0;left: 50%;z-index: 0;}#sk-container-id-23 div.sk-serial {display: flex;flex-direction: column;align-items: center;background-color: white;padding-right: 0.2em;padding-left: 0.2em;position: relative;}#sk-container-id-23 div.sk-item {position: relative;z-index: 1;}#sk-container-id-23 div.sk-parallel {display: flex;align-items: stretch;justify-content: center;background-color: white;position: relative;}#sk-container-id-23 div.sk-item::before, #sk-container-id-23 div.sk-parallel-item::before {content: \"\";position: absolute;border-left: 1px solid gray;box-sizing: border-box;top: 0;bottom: 0;left: 50%;z-index: -1;}#sk-container-id-23 div.sk-parallel-item {display: flex;flex-direction: column;z-index: 1;position: relative;background-color: white;}#sk-container-id-23 div.sk-parallel-item:first-child::after {align-self: flex-end;width: 50%;}#sk-container-id-23 div.sk-parallel-item:last-child::after {align-self: flex-start;width: 50%;}#sk-container-id-23 div.sk-parallel-item:only-child::after {width: 0;}#sk-container-id-23 div.sk-dashed-wrapped {border: 1px dashed gray;margin: 0 0.4em 0.5em 0.4em;box-sizing: border-box;padding-bottom: 0.4em;background-color: white;}#sk-container-id-23 div.sk-label label {font-family: monospace;font-weight: bold;display: inline-block;line-height: 1.2em;}#sk-container-id-23 div.sk-label-container {text-align: center;}#sk-container-id-23 div.sk-container {/* jupyter's `normalize.less` sets `[hidden] { display: none; }` but bootstrap.min.css set `[hidden] { display: none !important; }` so we also need the `!important` here to be able to override the default hidden behavior on the sphinx rendered scikit-learn.org. See: https://github.com/scikit-learn/scikit-learn/issues/21755 */display: inline-block !important;position: relative;}#sk-container-id-23 div.sk-text-repr-fallback {display: none;}</style><div id=\"sk-container-id-23\" class=\"sk-top-container\"><div class=\"sk-text-repr-fallback\"><pre>KNeighborsClassifier(n_neighbors=3)</pre><b>In a Jupyter environment, please rerun this cell to show the HTML representation or trust the notebook. <br />On GitHub, the HTML representation is unable to render, please try loading this page with nbviewer.org.</b></div><div class=\"sk-container\" hidden><div class=\"sk-item\"><div class=\"sk-estimator sk-toggleable\"><input class=\"sk-toggleable__control sk-hidden--visually\" id=\"sk-estimator-id-23\" type=\"checkbox\" checked><label for=\"sk-estimator-id-23\" class=\"sk-toggleable__label sk-toggleable__label-arrow\">KNeighborsClassifier</label><div class=\"sk-toggleable__content\"><pre>KNeighborsClassifier(n_neighbors=3)</pre></div></div></div></div></div>"
      ],
      "text/plain": [
       "KNeighborsClassifier(n_neighbors=3)"
      ]
     },
     "execution_count": 369,
     "metadata": {},
     "output_type": "execute_result"
    }
   ],
   "source": [
    "knn_final.fit(X_train,y_train)"
   ]
  },
  {
   "cell_type": "code",
   "execution_count": 370,
   "metadata": {},
   "outputs": [],
   "source": [
    "y_pred_final=knn_final.predict(X_test)"
   ]
  },
  {
   "cell_type": "code",
   "execution_count": 371,
   "metadata": {},
   "outputs": [
    {
     "data": {
      "text/plain": [
       "0.99"
      ]
     },
     "execution_count": 371,
     "metadata": {},
     "output_type": "execute_result"
    }
   ],
   "source": [
    "accuracy_score(y_test,y_pred_final)"
   ]
  },
  {
   "cell_type": "code",
   "execution_count": 372,
   "metadata": {},
   "outputs": [],
   "source": [
    "import pickle"
   ]
  },
  {
   "cell_type": "code",
   "execution_count": 376,
   "metadata": {},
   "outputs": [],
   "source": [
    "pickle.dump(knn_final,open('/Users/kapilyadav/Desktop/majorproject/Cancer-Prediction-in-Early-stages-master copy/pickle_file/knn_final.pkl','wb'))"
   ]
  },
  {
   "cell_type": "code",
   "execution_count": null,
   "metadata": {},
   "outputs": [],
   "source": []
  },
  {
   "cell_type": "markdown",
   "metadata": {},
   "source": [
    "# Decision Tree"
   ]
  },
  {
   "cell_type": "code",
   "execution_count": null,
   "metadata": {},
   "outputs": [],
   "source": [
    "from sklearn import tree\n",
    "clf_tree=tree.DecisionTreeClassifier()\n",
    "clf_tree.fit(X_train,y_train)\n",
    "y_pred=clf_tree.predict(X_test)"
   ]
  },
  {
   "cell_type": "code",
   "execution_count": null,
   "metadata": {},
   "outputs": [],
   "source": [
    "testScores['Tree-jaccard']=jaccard_score(y_test, y_pred)\n",
    "testScores['Tree-f1-score']=f1_score(y_test, y_pred, average='weighted')"
   ]
  },
  {
   "cell_type": "code",
   "execution_count": null,
   "metadata": {},
   "outputs": [],
   "source": [
    "testScores"
   ]
  },
  {
   "cell_type": "code",
   "execution_count": null,
   "metadata": {},
   "outputs": [],
   "source": [
    "accuracy_score(y_test,y_pred)"
   ]
  },
  {
   "cell_type": "markdown",
   "metadata": {},
   "source": [
    "# SVM"
   ]
  },
  {
   "cell_type": "code",
   "execution_count": 362,
   "metadata": {},
   "outputs": [
    {
     "name": "stderr",
     "output_type": "stream",
     "text": [
      "/Library/Frameworks/Python.framework/Versions/3.9/lib/python3.9/site-packages/sklearn/svm/_base.py:1244: ConvergenceWarning: Liblinear failed to converge, increase the number of iterations.\n",
      "  warnings.warn(\n"
     ]
    }
   ],
   "source": [
    "from sklearn import svm\n",
    "\n",
    "clf_svm = svm.LinearSVC(random_state=7)\n",
    "clf_svm.fit(X_train, y_train)  \n",
    "\n",
    "y_pred=clf_svm.predict(X_test)"
   ]
  },
  {
   "cell_type": "code",
   "execution_count": 365,
   "metadata": {},
   "outputs": [
    {
     "name": "stdout",
     "output_type": "stream",
     "text": [
      "0.97\n"
     ]
    }
   ],
   "source": [
    "print(accuracy_score(y_test,y_pred))"
   ]
  },
  {
   "cell_type": "code",
   "execution_count": 366,
   "metadata": {},
   "outputs": [
    {
     "name": "stdout",
     "output_type": "stream",
     "text": [
      "[[ 61   1]\n",
      " [  5 133]]\n"
     ]
    }
   ],
   "source": [
    "print(confusion_matrix(y_test,y_pred))"
   ]
  },
  {
   "cell_type": "code",
   "execution_count": null,
   "metadata": {},
   "outputs": [],
   "source": []
  },
  {
   "cell_type": "code",
   "execution_count": null,
   "metadata": {},
   "outputs": [],
   "source": []
  },
  {
   "cell_type": "code",
   "execution_count": 363,
   "metadata": {},
   "outputs": [],
   "source": [
    "testScores['SVM-jaccard']=jaccard_score(y_test, y_pred)\n",
    "testScores['SVM-f1-score']=f1_score(y_test, y_pred, average='weighted')"
   ]
  },
  {
   "cell_type": "code",
   "execution_count": 364,
   "metadata": {},
   "outputs": [
    {
     "data": {
      "text/plain": [
       "{'LogReg-jaccard': 0.9637681159420289,\n",
       " 'LogReg-f1-score': 0.975253868817758,\n",
       " 'LogReg-logLoss': 0.047083029656058456,\n",
       " 'KNN-jaccard': 0.9166666666666666,\n",
       " 'KNN-f1-score': 0.94,\n",
       " 'SVM-jaccard': 0.9568345323741008,\n",
       " 'SVM-f1-score': 0.9702481617647059}"
      ]
     },
     "execution_count": 364,
     "metadata": {},
     "output_type": "execute_result"
    }
   ],
   "source": [
    "testScores"
   ]
  },
  {
   "cell_type": "markdown",
   "metadata": {},
   "source": [
    "# Classification Report Of Lungs Cancer Detection"
   ]
  },
  {
   "cell_type": "markdown",
   "metadata": {},
   "source": [
    "| Algorithm          | Jaccard | F1-score | LogLoss |\n",
    "|--------------------|---------|----------|---------|\n",
    "| KNN                | 0.985   | 0.9850   | NA      |\n",
    "| Decision Tree      | 1.0     | 1.0      | NA      |\n",
    "| SVM                | 0.985   | 0.9850   | NA      |\n",
    "| LogisticRegression | 0.985   | 0.985    | 0.061    |"
   ]
  },
  {
   "cell_type": "code",
   "execution_count": null,
   "metadata": {},
   "outputs": [],
   "source": []
  },
  {
   "cell_type": "code",
   "execution_count": null,
   "metadata": {},
   "outputs": [],
   "source": []
  },
  {
   "cell_type": "code",
   "execution_count": null,
   "metadata": {},
   "outputs": [],
   "source": []
  }
 ],
 "metadata": {
  "kernelspec": {
   "display_name": "Python 3",
   "language": "python",
   "name": "python3"
  },
  "language_info": {
   "codemirror_mode": {
    "name": "ipython",
    "version": 3
   },
   "file_extension": ".py",
   "mimetype": "text/x-python",
   "name": "python",
   "nbconvert_exporter": "python",
   "pygments_lexer": "ipython3",
   "version": "3.9.0"
  },
  "vscode": {
   "interpreter": {
    "hash": "aee8b7b246df8f9039afb4144a1f6fd8d2ca17a180786b69acc140d282b71a49"
   }
  }
 },
 "nbformat": 4,
 "nbformat_minor": 2
}
